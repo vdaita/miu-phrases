{
 "cells": [
  {
   "cell_type": "code",
   "execution_count": null,
   "metadata": {},
   "outputs": [
    {
     "name": "stdout",
     "output_type": "stream",
     "text": [
      "Opened CSV\n"
     ]
    },
    {
     "name": "stderr",
     "output_type": "stream",
     "text": [
      "C:\\Users\\theal\\AppData\\Local\\Temp\\ipykernel_68928\\2192807919.py:3: DtypeWarning: Columns (300,304,325,328) have mixed types. Specify dtype option on import or set low_memory=False.\n",
      "  df = pd.read_csv(\"company_website_second_round_with_additional_firms.csv\")\n"
     ]
    }
   ],
   "source": [
    "import pandas as pd\n",
    "\n",
    "df = pd.read_csv(\"company_website_second_round_with_additional_firms.csv\")\n",
    "\n",
    "print(\"Opened CSV\")"
   ]
  },
  {
   "cell_type": "code",
   "execution_count": 2,
   "metadata": {},
   "outputs": [],
   "source": [
    "keywords = [\n",
    "    \"made in america\", \"made in u.s.\", \"made in us\", # made in usa and made in us overlap\n",
    "    \"american made\", \"usa made\", \"u.s. made\", \"us made\",\n",
    "    \"buy american\", \"buy usa\", \"buy america\",\n",
    "    \"support america\", \"support usa\", \"support u.s.\",\n",
    "    \"patriot\",\n",
    "    \"choose american\", \"choose usa\", \"choose u.s.\", \"choose america\",\n",
    "    \"national pride\",\n",
    "    \"usa based\", \"america based\", \"american based\", \"us based\", \"u.s. based\",\n",
    "    \"usa produced\", \"america produced\", \"american produced\", \"us produced\", \"u.s. produced\",\n",
    "    \"usa manufactured\", \"america manufactured\", \"american manufactured\", \"us manufactured\", \"u.s. manufactured\",\n",
    "    \"american worker\", \"american job\",\n",
    "    \"veteran owned\", \"veteran founded\", \"founded by veteran\",\n",
    "    \"handcrafted in america\", \"handcrafted in usa\", \"handcrafted in u.s.\", \"handcrafted in us\",\n",
    "    \"crafted in america\", \"crafted in u.s.\", \"crafted in us\", # removed \"crafted in the usa\" due to overlap with crafted in the US\n",
    "    \"america heritage\", \"america tradition\", \"america value\",\n",
    "    \"icon of america\", \"icon of usa\", \"icon of u.s.\",\n",
    "    \"america manufactur\", \"u.s. manufactur\"\n",
    "]\n"
   ]
  },
  {
   "cell_type": "code",
   "execution_count": 3,
   "metadata": {},
   "outputs": [
    {
     "data": {
      "text/html": [
       "<div>\n",
       "<style scoped>\n",
       "    .dataframe tbody tr th:only-of-type {\n",
       "        vertical-align: middle;\n",
       "    }\n",
       "\n",
       "    .dataframe tbody tr th {\n",
       "        vertical-align: top;\n",
       "    }\n",
       "\n",
       "    .dataframe thead th {\n",
       "        text-align: right;\n",
       "    }\n",
       "</style>\n",
       "<table border=\"1\" class=\"dataframe\">\n",
       "  <thead>\n",
       "    <tr style=\"text-align: right;\">\n",
       "      <th></th>\n",
       "      <th>2023-10</th>\n",
       "      <th>2023-09</th>\n",
       "      <th>2023-08</th>\n",
       "      <th>2023-07</th>\n",
       "      <th>2023-06</th>\n",
       "      <th>2023-05</th>\n",
       "      <th>2023-04</th>\n",
       "      <th>2023-03</th>\n",
       "      <th>2023-02</th>\n",
       "      <th>2023-01</th>\n",
       "      <th>...</th>\n",
       "      <th>1997-07</th>\n",
       "      <th>1997-06</th>\n",
       "      <th>1997-05</th>\n",
       "      <th>1997-04</th>\n",
       "      <th>1997-03</th>\n",
       "      <th>1997-02</th>\n",
       "      <th>1997-01</th>\n",
       "      <th>1996-12</th>\n",
       "      <th>1996-11</th>\n",
       "      <th>1996-10</th>\n",
       "    </tr>\n",
       "  </thead>\n",
       "  <tbody>\n",
       "    <tr>\n",
       "      <th>0</th>\n",
       "      <td>NaN</td>\n",
       "      <td>NaN</td>\n",
       "      <td>NaN</td>\n",
       "      <td>NaN</td>\n",
       "      <td>NaN</td>\n",
       "      <td>NaN</td>\n",
       "      <td>\\nGifts for Men | 11 Industries | Gentleman's ...</td>\n",
       "      <td>\\nGifts for Men | 11 Industries | Gentleman's ...</td>\n",
       "      <td>\\nGifts for Men | 11 Industries | Gentleman's ...</td>\n",
       "      <td>NaN</td>\n",
       "      <td>...</td>\n",
       "      <td>NaN</td>\n",
       "      <td>NaN</td>\n",
       "      <td>NaN</td>\n",
       "      <td>NaN</td>\n",
       "      <td>NaN</td>\n",
       "      <td>NaN</td>\n",
       "      <td>NaN</td>\n",
       "      <td>NaN</td>\n",
       "      <td>NaN</td>\n",
       "      <td>NaN</td>\n",
       "    </tr>\n",
       "    <tr>\n",
       "      <th>1</th>\n",
       "      <td>NaN</td>\n",
       "      <td>\\nDistillery | 11 Wells Distillery | Saint Pau...</td>\n",
       "      <td>\\nDistillery | 11 Wells Distillery | Saint Pau...</td>\n",
       "      <td>NaN</td>\n",
       "      <td>\\nDistillery | 11 Wells Distillery | Saint Pau...</td>\n",
       "      <td>NaN</td>\n",
       "      <td>\\nDistillery | 11 Wells Distillery | Saint Pau...</td>\n",
       "      <td>\\nDistillery | 11 Wells Distillery | Saint Pau...</td>\n",
       "      <td>\\nDistillery | 11 Wells Distillery | Saint Pau...</td>\n",
       "      <td>NaN</td>\n",
       "      <td>...</td>\n",
       "      <td>NaN</td>\n",
       "      <td>NaN</td>\n",
       "      <td>NaN</td>\n",
       "      <td>NaN</td>\n",
       "      <td>NaN</td>\n",
       "      <td>NaN</td>\n",
       "      <td>NaN</td>\n",
       "      <td>NaN</td>\n",
       "      <td>NaN</td>\n",
       "      <td>NaN</td>\n",
       "    </tr>\n",
       "    <tr>\n",
       "      <th>2</th>\n",
       "      <td>NaN</td>\n",
       "      <td>NaN</td>\n",
       "      <td>NaN</td>\n",
       "      <td>NaN</td>\n",
       "      <td>14th Rose - Handbags, Purses, Woman's Bags\\n F...</td>\n",
       "      <td>NaN</td>\n",
       "      <td>NaN</td>\n",
       "      <td>14th Rose - Handbags, Purses, Woman's Bags\\n F...</td>\n",
       "      <td>NaN</td>\n",
       "      <td>14th Rose - Handbags, Purses, Woman's Bags\\n F...</td>\n",
       "      <td>...</td>\n",
       "      <td>NaN</td>\n",
       "      <td>NaN</td>\n",
       "      <td>NaN</td>\n",
       "      <td>NaN</td>\n",
       "      <td>NaN</td>\n",
       "      <td>NaN</td>\n",
       "      <td>NaN</td>\n",
       "      <td>NaN</td>\n",
       "      <td>NaN</td>\n",
       "      <td>NaN</td>\n",
       "    </tr>\n",
       "    <tr>\n",
       "      <th>3</th>\n",
       "      <td>NaN</td>\n",
       "      <td>NaN</td>\n",
       "      <td>\\nHome - Regal Ware\\nWho We Are\\nWhy We Work\\n...</td>\n",
       "      <td>\\nHome - Regal Ware\\nWho We Are\\nWhy We Work\\n...</td>\n",
       "      <td>\\nRegal Ware | Enriching Life by Bringing Fami...</td>\n",
       "      <td>NaN</td>\n",
       "      <td>NaN</td>\n",
       "      <td>\\nRegal Ware | Enriching Life by Bringing Fami...</td>\n",
       "      <td>NaN</td>\n",
       "      <td>\\nRegal Ware | Enriching Life by Bringing Fami...</td>\n",
       "      <td>...</td>\n",
       "      <td>NaN</td>\n",
       "      <td>NaN</td>\n",
       "      <td>NaN</td>\n",
       "      <td>NaN</td>\n",
       "      <td>NaN</td>\n",
       "      <td>NaN</td>\n",
       "      <td>\\nWelcome to Regal Ware, Inc.\\nA global leader...</td>\n",
       "      <td>\\nWelcome to Regal Ware, Inc.\\nA global leader...</td>\n",
       "      <td>NaN</td>\n",
       "      <td>NaN</td>\n",
       "    </tr>\n",
       "    <tr>\n",
       "      <th>4</th>\n",
       "      <td>NaN</td>\n",
       "      <td>NaN</td>\n",
       "      <td>NaN</td>\n",
       "      <td>NaN</td>\n",
       "      <td>NaN</td>\n",
       "      <td>NaN</td>\n",
       "      <td>NaN</td>\n",
       "      <td>\\nCustom Swim Parkas and Wholesale Fleece Jack...</td>\n",
       "      <td>NaN</td>\n",
       "      <td>NaN</td>\n",
       "      <td>...</td>\n",
       "      <td>NaN</td>\n",
       "      <td>NaN</td>\n",
       "      <td>NaN</td>\n",
       "      <td>NaN</td>\n",
       "      <td>NaN</td>\n",
       "      <td>NaN</td>\n",
       "      <td>NaN</td>\n",
       "      <td>NaN</td>\n",
       "      <td>NaN</td>\n",
       "      <td>NaN</td>\n",
       "    </tr>\n",
       "  </tbody>\n",
       "</table>\n",
       "<p>5 rows × 325 columns</p>\n",
       "</div>"
      ],
      "text/plain": [
       "  2023-10                                            2023-09  \\\n",
       "0     NaN                                                NaN   \n",
       "1     NaN  \\nDistillery | 11 Wells Distillery | Saint Pau...   \n",
       "2     NaN                                                NaN   \n",
       "3     NaN                                                NaN   \n",
       "4     NaN                                                NaN   \n",
       "\n",
       "                                             2023-08  \\\n",
       "0                                                NaN   \n",
       "1  \\nDistillery | 11 Wells Distillery | Saint Pau...   \n",
       "2                                                NaN   \n",
       "3  \\nHome - Regal Ware\\nWho We Are\\nWhy We Work\\n...   \n",
       "4                                                NaN   \n",
       "\n",
       "                                             2023-07  \\\n",
       "0                                                NaN   \n",
       "1                                                NaN   \n",
       "2                                                NaN   \n",
       "3  \\nHome - Regal Ware\\nWho We Are\\nWhy We Work\\n...   \n",
       "4                                                NaN   \n",
       "\n",
       "                                             2023-06 2023-05  \\\n",
       "0                                                NaN     NaN   \n",
       "1  \\nDistillery | 11 Wells Distillery | Saint Pau...     NaN   \n",
       "2  14th Rose - Handbags, Purses, Woman's Bags\\n F...     NaN   \n",
       "3  \\nRegal Ware | Enriching Life by Bringing Fami...     NaN   \n",
       "4                                                NaN     NaN   \n",
       "\n",
       "                                             2023-04  \\\n",
       "0  \\nGifts for Men | 11 Industries | Gentleman's ...   \n",
       "1  \\nDistillery | 11 Wells Distillery | Saint Pau...   \n",
       "2                                                NaN   \n",
       "3                                                NaN   \n",
       "4                                                NaN   \n",
       "\n",
       "                                             2023-03  \\\n",
       "0  \\nGifts for Men | 11 Industries | Gentleman's ...   \n",
       "1  \\nDistillery | 11 Wells Distillery | Saint Pau...   \n",
       "2  14th Rose - Handbags, Purses, Woman's Bags\\n F...   \n",
       "3  \\nRegal Ware | Enriching Life by Bringing Fami...   \n",
       "4  \\nCustom Swim Parkas and Wholesale Fleece Jack...   \n",
       "\n",
       "                                             2023-02  \\\n",
       "0  \\nGifts for Men | 11 Industries | Gentleman's ...   \n",
       "1  \\nDistillery | 11 Wells Distillery | Saint Pau...   \n",
       "2                                                NaN   \n",
       "3                                                NaN   \n",
       "4                                                NaN   \n",
       "\n",
       "                                             2023-01  ... 1997-07 1997-06  \\\n",
       "0                                                NaN  ...     NaN     NaN   \n",
       "1                                                NaN  ...     NaN     NaN   \n",
       "2  14th Rose - Handbags, Purses, Woman's Bags\\n F...  ...     NaN     NaN   \n",
       "3  \\nRegal Ware | Enriching Life by Bringing Fami...  ...     NaN     NaN   \n",
       "4                                                NaN  ...     NaN     NaN   \n",
       "\n",
       "  1997-05 1997-04 1997-03 1997-02  \\\n",
       "0     NaN     NaN     NaN     NaN   \n",
       "1     NaN     NaN     NaN     NaN   \n",
       "2     NaN     NaN     NaN     NaN   \n",
       "3     NaN     NaN     NaN     NaN   \n",
       "4     NaN     NaN     NaN     NaN   \n",
       "\n",
       "                                             1997-01  \\\n",
       "0                                                NaN   \n",
       "1                                                NaN   \n",
       "2                                                NaN   \n",
       "3  \\nWelcome to Regal Ware, Inc.\\nA global leader...   \n",
       "4                                                NaN   \n",
       "\n",
       "                                             1996-12 1996-11 1996-10  \n",
       "0                                                NaN     NaN     NaN  \n",
       "1                                                NaN     NaN     NaN  \n",
       "2                                                NaN     NaN     NaN  \n",
       "3  \\nWelcome to Regal Ware, Inc.\\nA global leader...     NaN     NaN  \n",
       "4                                                NaN     NaN     NaN  \n",
       "\n",
       "[5 rows x 325 columns]"
      ]
     },
     "execution_count": 3,
     "metadata": {},
     "output_type": "execute_result"
    }
   ],
   "source": [
    "df.drop(df.columns[:14], axis=1, inplace=True)\n",
    "df.head()"
   ]
  },
  {
   "cell_type": "code",
   "execution_count": 4,
   "metadata": {},
   "outputs": [
    {
     "data": {
      "text/plain": [
       "(5189, 325)"
      ]
     },
     "execution_count": 4,
     "metadata": {},
     "output_type": "execute_result"
    }
   ],
   "source": [
    "df.shape"
   ]
  },
  {
   "cell_type": "code",
   "execution_count": 5,
   "metadata": {},
   "outputs": [],
   "source": [
    "columns = list(df.columns)"
   ]
  },
  {
   "cell_type": "code",
   "execution_count": 9,
   "metadata": {},
   "outputs": [],
   "source": [
    "# Extract the count values for the term frequency IDF portion\n",
    "term_count = {}\n",
    "\n",
    "def count_term_existence(keyword):\n",
    "    import pandas as pd\n",
    "    print(\"Processing keyword: \", keyword)\n",
    "    # Columns indicating years\n",
    "    term_existence = [0] * len(columns)\n",
    "\n",
    "    for row in df.itertuples(): # For each website\n",
    "        previous_value = 0 # Track the previous value\n",
    "        for column in range(len(columns) - 1, -1, -1): # Go from the earliest time to the latest time.\n",
    "            if pd.isna(row[column]) or type(row[column]) == int: # Is the value a number or showing a null value?\n",
    "                term_existence[column] += previous_value # Add the most recent value\n",
    "            else:\n",
    "                if keyword in row[column].lower(): # is the keyword in the lowercased version of the text?\n",
    "                    term_existence[column] += 1 # Yes? then add 1 to the value for this year\n",
    "                    previous_value = 1 # Yes? Set the previous value to 1\n",
    "                else:\n",
    "                    term_existence[column] += previous_value # Keyword isn't there? If it was there in last year(s), include it this year. \n",
    "\n",
    "    return {keyword: sum(term_existence)} # Sum the value over all of the different years\n"
   ]
  },
  {
   "cell_type": "code",
   "execution_count": 10,
   "metadata": {},
   "outputs": [
    {
     "name": "stdout",
     "output_type": "stream",
     "text": [
      "882928\n"
     ]
    }
   ],
   "source": [
    "document_count = [0] * len(columns) # How many documents are there per year?\n",
    "for row in df.itertuples():\n",
    "    previous_value = 0 # Setting the previous value to zero\n",
    "    for column in range(len(columns) - 1, -1, -1):\n",
    "        if pd.isna(row[column]) or type(row[column]) == int: # Is the current value NaN/0? Then go back to the most recent value\n",
    "            document_count[column] += previous_value # Add the previous value (1 or 0)\n",
    "        else:\n",
    "            document_count[column] += 1 # Increment the count of documents for this year\n",
    "            previous_value = 1 # The previous value will be 1 (as there will be a document to represent for every year thereafter)\n",
    "\n",
    "document_count_sum = sum(document_count)\n",
    "print(document_count_sum) # Total number of documents"
   ]
  },
  {
   "cell_type": "code",
   "execution_count": 11,
   "metadata": {},
   "outputs": [
    {
     "ename": "NameError",
     "evalue": "name 'columns' is not defined",
     "output_type": "error",
     "traceback": [
      "\u001b[1;31m---------------------------------------------------------------------------\u001b[0m",
      "\u001b[1;31mRemoteTraceback\u001b[0m                           Traceback (most recent call last)",
      "\u001b[1;31mRemoteTraceback\u001b[0m: \n\"\"\"\nTraceback (most recent call last):\n  File \"c:\\Users\\theal\\.conda\\envs\\linegym\\Lib\\site-packages\\multiprocess\\pool.py\", line 125, in worker\n    result = (True, func(*args, **kwds))\n                    ^^^^^^^^^^^^^^^^^^^\n  File \"c:\\Users\\theal\\.conda\\envs\\linegym\\Lib\\site-packages\\multiprocess\\pool.py\", line 48, in mapstar\n    return list(map(*args))\n           ^^^^^^^^^^^^^^^^\n  File \"C:\\Users\\theal\\AppData\\Local\\Temp\\ipykernel_68928\\421773954.py\", line 8, in count_term_existence\nNameError: name 'columns' is not defined\n\"\"\"",
      "\nThe above exception was the direct cause of the following exception:\n",
      "\u001b[1;31mNameError\u001b[0m                                 Traceback (most recent call last)",
      "Cell \u001b[1;32mIn[11], line 4\u001b[0m\n\u001b[0;32m      1\u001b[0m \u001b[38;5;28;01mimport\u001b[39;00m \u001b[38;5;21;01mmultiprocess\u001b[39;00m \u001b[38;5;28;01mas\u001b[39;00m \u001b[38;5;21;01mmp\u001b[39;00m \u001b[38;5;66;03m# This is code to paralellize running the processing steps\u001b[39;00m\n\u001b[0;32m      3\u001b[0m pool \u001b[38;5;241m=\u001b[39m mp\u001b[38;5;241m.\u001b[39mPool(processes\u001b[38;5;241m=\u001b[39m\u001b[38;5;241m4\u001b[39m)\n\u001b[1;32m----> 4\u001b[0m results \u001b[38;5;241m=\u001b[39m \u001b[43mpool\u001b[49m\u001b[38;5;241;43m.\u001b[39;49m\u001b[43mmap\u001b[49m\u001b[43m(\u001b[49m\u001b[43mcount_term_existence\u001b[49m\u001b[43m,\u001b[49m\u001b[43m \u001b[49m\u001b[43mkeywords\u001b[49m\u001b[43m)\u001b[49m\n\u001b[0;32m      5\u001b[0m term_count \u001b[38;5;241m=\u001b[39m {}\n\u001b[0;32m      6\u001b[0m \u001b[38;5;28;01mfor\u001b[39;00m result \u001b[38;5;129;01min\u001b[39;00m results:\n",
      "File \u001b[1;32mc:\\Users\\theal\\.conda\\envs\\linegym\\Lib\\site-packages\\multiprocess\\pool.py:367\u001b[0m, in \u001b[0;36mPool.map\u001b[1;34m(self, func, iterable, chunksize)\u001b[0m\n\u001b[0;32m    362\u001b[0m \u001b[38;5;28;01mdef\u001b[39;00m \u001b[38;5;21mmap\u001b[39m(\u001b[38;5;28mself\u001b[39m, func, iterable, chunksize\u001b[38;5;241m=\u001b[39m\u001b[38;5;28;01mNone\u001b[39;00m):\n\u001b[0;32m    363\u001b[0m \u001b[38;5;250m    \u001b[39m\u001b[38;5;124;03m'''\u001b[39;00m\n\u001b[0;32m    364\u001b[0m \u001b[38;5;124;03m    Apply `func` to each element in `iterable`, collecting the results\u001b[39;00m\n\u001b[0;32m    365\u001b[0m \u001b[38;5;124;03m    in a list that is returned.\u001b[39;00m\n\u001b[0;32m    366\u001b[0m \u001b[38;5;124;03m    '''\u001b[39;00m\n\u001b[1;32m--> 367\u001b[0m     \u001b[38;5;28;01mreturn\u001b[39;00m \u001b[38;5;28;43mself\u001b[39;49m\u001b[38;5;241;43m.\u001b[39;49m\u001b[43m_map_async\u001b[49m\u001b[43m(\u001b[49m\u001b[43mfunc\u001b[49m\u001b[43m,\u001b[49m\u001b[43m \u001b[49m\u001b[43miterable\u001b[49m\u001b[43m,\u001b[49m\u001b[43m \u001b[49m\u001b[43mmapstar\u001b[49m\u001b[43m,\u001b[49m\u001b[43m \u001b[49m\u001b[43mchunksize\u001b[49m\u001b[43m)\u001b[49m\u001b[38;5;241;43m.\u001b[39;49m\u001b[43mget\u001b[49m\u001b[43m(\u001b[49m\u001b[43m)\u001b[49m\n",
      "File \u001b[1;32mc:\\Users\\theal\\.conda\\envs\\linegym\\Lib\\site-packages\\multiprocess\\pool.py:774\u001b[0m, in \u001b[0;36mApplyResult.get\u001b[1;34m(self, timeout)\u001b[0m\n\u001b[0;32m    772\u001b[0m     \u001b[38;5;28;01mreturn\u001b[39;00m \u001b[38;5;28mself\u001b[39m\u001b[38;5;241m.\u001b[39m_value\n\u001b[0;32m    773\u001b[0m \u001b[38;5;28;01melse\u001b[39;00m:\n\u001b[1;32m--> 774\u001b[0m     \u001b[38;5;28;01mraise\u001b[39;00m \u001b[38;5;28mself\u001b[39m\u001b[38;5;241m.\u001b[39m_value\n",
      "\u001b[1;31mNameError\u001b[0m: name 'columns' is not defined"
     ]
    }
   ],
   "source": [
    "import multiprocess as mp # This is code to paralellize running the processing steps\n",
    "\n",
    "pool = mp.Pool(processes=4)\n",
    "results = pool.map(count_term_existence, keywords)\n",
    "term_count = {}\n",
    "for result in results:\n",
    "    term_count.update(result)"
   ]
  },
  {
   "cell_type": "code",
   "execution_count": 37,
   "metadata": {},
   "outputs": [],
   "source": [
    "import math\n",
    "\n",
    "def generate_final_value_by_year(data):\n",
    "    keyword, term_existence = data\n",
    "\n",
    "    print(\"Processing keyword: \", keyword)\n",
    "    adjusted_keyword_count = [0] * len(columns)\n",
    "\n",
    "    if term_existence == 0: # Skip over if this term wasn't counted in any of the years\n",
    "        return {keyword: adjusted_keyword_count}\n",
    "    \n",
    "    for row in df.itertuples():\n",
    "        previous_value = 0\n",
    "        for column in range(len(columns) - 1, -1, -1): # Iterate from least recent to most recent\n",
    "            if pd.isna(row[column]) or type(row[column]) == int: # Does the current value here not exist?\n",
    "                adjusted_keyword_count[column] += previous_value # Add in the previous value instead\n",
    "            else:\n",
    "                idf = math.log(1 + (document_count_sum/term_existence)) # This is the IDF formula\n",
    "                keyword_count = row[column].lower().count(keyword) # This is the term frequency within this document\n",
    "                value = (keyword_count * idf / len(row[column]))*100 # This is the formula\n",
    "\n",
    "                # keyword_count = row[column].lower().count(keyword) # This is the term frequency within this document (for not using TF-IDF)\n",
    "                # value = keyword_count # No changes to the value here! (for not using TF-IDF)\n",
    "\n",
    "                if keyword_count > 0 or value > previous_value: # Is the value greater? Does the keyword count exist\n",
    "                    adjusted_keyword_count[column] += value # Increment by the value we just got\n",
    "                    previous_value = value # Set previous value\n",
    "                else: \n",
    "                    adjusted_keyword_count[column] += previous_value # Just use the previous value\n",
    "\n",
    "    return {keyword: adjusted_keyword_count}"
   ]
  },
  {
   "cell_type": "code",
   "execution_count": 38,
   "metadata": {},
   "outputs": [
    {
     "name": "stdout",
     "output_type": "stream",
     "text": [
      "Processing keyword: us made \n",
      "Processing keyword: Processing keyword: Processing keyword: Processing keyword: Processing keyword:    support u.s.made in americabuy america\n",
      "\n",
      " \n",
      " choose usa\n",
      "american made\n",
      "Processing keyword: Processing keyword: Processing keyword: Processing keyword: Processing keyword:      Processing keyword: made in u.s.usa madebuy american patriotsupport america\n",
      "\n",
      "\n",
      "choose u.s.\n",
      "\n",
      "\n",
      "Processing keyword: Processing keyword:   made in uschoose americanProcessing keyword: Processing keyword: \n",
      " \n",
      " choose americabuy usa\n",
      "\n",
      "Processing keyword:  support usa\n",
      "Processing keyword:  u.s. made\n",
      "Processing keyword:  national pride\n",
      "Processing keyword:  Processing keyword: american based\n",
      " usa produced\n",
      "Processing keyword:  us produced\n",
      "Processing keyword:  u.s. produced\n",
      "Processing keyword:  america manufactured\n",
      "Processing keyword:  american manufactured\n",
      "Processing keyword:  u.s. manufactured\n",
      "Processing keyword: Processing keyword:  Processing keyword:  us manufacturedus based \n",
      "\n",
      "america produced\n",
      "Processing keyword:  american produced\n",
      "Processing keyword:  veteran owned\n",
      "Processing keyword:  usa manufactured\n",
      "Processing keyword:  usa based\n",
      "Processing keyword:  american worker\n",
      "Processing keyword:  veteran founded\n",
      "Processing keyword:  Processing keyword: handcrafted in america handcrafted in us\n",
      "\n",
      "Processing keyword:  america based\n",
      "Processing keyword:  american job\n",
      "Processing keyword:  u.s. based\n",
      "Processing keyword:  Processing keyword: handcrafted in usa\n",
      " crafted in usProcessing keyword: \n",
      " founded by veteran\n",
      "Processing keyword:  crafted in america\n",
      "Processing keyword:  america valueProcessing keyword: \n",
      " icon of u.s.\n",
      "Processing keyword:  america manufactur\n",
      "Processing keyword:  crafted in u.s.\n",
      "Processing keyword:  handcrafted in u.s.\n",
      "Processing keyword: Processing keyword:  u.s. manufactur\n",
      " america heritage\n",
      "Processing keyword:  america tradition\n",
      "Processing keyword:  icon of america\n",
      "Processing keyword:  icon of usa\n"
     ]
    }
   ],
   "source": [
    "# Run this over all of the different keywords\n",
    "\n",
    "pool = mp.Pool(processes=6)\n",
    "results = pool.map(generate_final_value_by_year, ((keyword, term_count[keyword]) for keyword in keywords))\n",
    "tf_idf_total = {}\n",
    "for result in results:\n",
    "    tf_idf_total.update(result)"
   ]
  },
  {
   "cell_type": "code",
   "execution_count": 39,
   "metadata": {},
   "outputs": [
    {
     "name": "stdout",
     "output_type": "stream",
     "text": [
      "[85.08718067679324, 85.08718067679324, 84.86255892460171, 85.21696360808949, 84.99784656740387, 85.3306667043261, 86.32629074726346, 86.15819453738628, 85.07323848156612, 84.05459954906041, 84.06081617449863, 83.65999383161521, 83.22408588327775, 84.03793809676861, 84.19328672200304, 84.15538968495787, 83.81303323519518, 84.03201060464356, 83.60780773906596, 83.1412816159201, 82.7860718250327, 82.56312553596001, 82.45129006814149, 81.71037545156295, 77.55000091494219, 77.67865709093039, 77.00572930044436, 77.35335895033184, 76.29979271784683, 76.20355471567956, 75.71173337890268, 75.46048248724556, 75.59287634630515, 74.9945260903555, 74.86433642097982, 73.22621439435599, 73.5877801209785, 73.36258744341778, 74.93970265544745, 73.76018803629394, 71.96129360733202, 71.33283614978251, 70.06707879452318, 69.77554889840779, 69.18442370558658, 68.9016625043523, 69.30379158165806, 69.15598396332202, 68.78886814003724, 69.57077707127411, 68.84712258030376, 68.08804381413078, 67.86334636432134, 67.31201448814444, 66.90231306801425, 66.68781968054604, 66.4965298603805, 66.25619861390287, 66.21342921677066, 66.83740864787381, 67.17727358425341, 68.39473154080156, 68.55056073339166, 67.9787242876424, 66.13290418827069, 65.62862559081772, 64.98427115680904, 65.9712376403266, 65.16975597720642, 66.71092029772721, 66.55602949819277, 66.01017373362417, 65.73728383350924, 65.8292951151465, 64.89872770664537, 63.91375664588982, 63.7048319347795, 63.76163819540961, 63.12892762764971, 62.02318688123282, 61.70882283083275, 60.85276376933299, 60.428135098007616, 60.70902351803643, 60.69458192249095, 60.22894910687386, 60.223067253179074, 60.33817820615483, 59.945653195626065, 59.339616688967695, 59.24805056751576, 59.254725224847206, 57.96725069572872, 57.0878178803368, 57.069810053011736, 55.655123736119606, 54.68633509086279, 54.31879792689538, 54.887001231870094, 54.65189681353427, 52.72890749356864, 52.0527422334389, 51.383615116016855, 50.714963884373105, 50.90635672729453, 50.330270641048685, 49.717929129787144, 48.1768722602046, 45.982197294131225, 46.09283394553347, 45.185972333281, 44.21329780746584, 44.585454799626596, 44.17706149279154, 43.36348236897997, 39.98702947845477, 40.398791554591675, 39.98674345373032, 39.41540686951689, 38.360482707489744, 38.78227235082257, 37.66907082467434, 37.221605641933856, 37.21367335099301, 37.61056445872021, 37.565590992522026, 36.99438014197573, 34.57134068867205, 33.5965790493408, 32.85815722200542, 31.433516267306757, 32.03647103141925, 31.616778434135572, 32.846429377523386, 32.47823144592489, 30.405865753246164, 28.60713072707459, 27.738079904095656, 26.756196775505618, 25.95417161807231, 28.192627149358366, 27.810841508368547, 26.765916914245054, 25.62867383862427, 24.23209313296402, 23.531391978878847, 22.88820523296065, 22.550823963898416, 22.41898825492027, 22.238855775818635, 21.42590922420007, 20.986703778362386, 17.945287902964502, 16.561773204004048, 17.05369940319713, 16.143517065000378, 15.758126357244725, 15.395928977462939, 15.01056267201015, 14.769786595547137, 14.300166587297445, 14.240757924407992, 14.247837238696128, 14.002131044600706, 14.0174572920398, 13.362638590703702, 12.682379940611652, 12.695994131854574, 12.785874950354266, 12.777550035503737, 12.440122609511917, 12.242078164230028, 12.227458805975232, 12.153566606645766, 12.114772330135496, 12.094239709965056, 11.678660135659184, 11.772146126495869, 12.239557828323331, 12.285504749797266, 11.633282825137943, 11.630319507771208, 11.683721263672563, 11.414187336507224, 11.286688707344847, 11.19016048523404, 11.30916929409968, 11.083786489238724, 10.932168093308327, 10.844146582144168, 10.688933351311574, 10.262477651330231, 10.303833544344567, 10.112836397341413, 9.826535421830078, 9.691799227812576, 9.72337089291209, 9.739751748628704, 10.061833861420876, 10.141533339045045, 9.99655670684821, 9.771681774066005, 8.885418421746836, 8.886634014030962, 8.735522041778243, 8.763191374779367, 8.488604459114683, 8.49374763874821, 8.436190737234623, 8.441799576923373, 8.212798828586086, 8.22240889399642, 8.25919336456503, 8.276143224507576, 8.35819085980909, 8.331076903055154, 8.355518567867598, 8.05170844973976, 7.830535897799157, 7.827162468225938, 7.834243887203298, 7.793503740815205, 7.563892964836243, 7.619597236777038, 7.413896879787531, 5.662971960674176, 5.67572542651602, 5.6478637592638234, 5.415956026467141, 5.502920900576438, 5.501707452444787, 5.486164173593476, 5.693043399107211, 4.873516426886828, 4.406736523817513, 4.432239664120313, 4.310352101910877, 3.863151626535447, 3.863151626535447, 3.4899587041688833, 3.5002105379606903, 3.4480509720470502, 3.259051100644759, 3.208361463955948, 3.0484939139314604, 3.0485658291441116, 2.3598189298044074, 2.36464265730367, 2.6261054195035003, 2.477345225879868, 2.4972286717681293, 2.359224610108141, 2.359224610108141, 2.0057609284024234, 2.0057609284024234, 2.007866530016259, 2.0081132384113456, 1.8245621924667854, 1.8245621924667854, 1.8215343110782287, 2.6222810633195808, 2.6220794298491374, 2.6220794298491374, 2.6220794298491374, 2.6220794298491374, 2.506748836075938, 2.506748836075938, 2.467736500094313, 2.467736500094313, 2.2797048968130884, 2.2797048968130884, 2.2809298762792416, 2.28210729342413, 2.28210729342413, 2.3296827545858916, 2.3296827545858916, 2.345474275771604, 2.344306582269966, 2.345344292153257, 2.345344292153257, 2.345344292153257, 2.345344292153257, 2.345344292153257, 1.2284222133522733, 1.2284222133522733, 1.194320911730029, 1.194320911730029, 1.194320911730029, 1.194320911730029, 1.191398412487839, 0.30003614361981024, 0.30003614361981024, 0.30003614361981024, 0.30003614361981024, 0.30003614361981024, 0.30003614361981024, 0.1800375275733444, 0.1800375275733444, 0.1800375275733444, 0.1800375275733444, 0.1800375275733444, 0.1800375275733444, 0.1800375275733444, 0.1800375275733444, 0.1800375275733444, 0.1800375275733444, 0.1800375275733444, 0.1800375275733444, 0.1800375275733444, 0.1800375275733444, 0.2303689647581223, 0.2303689647581223, 0.2303689647581223, 0.2303689647581223, 0.2303689647581223, 0.2303689647581223, 0.2303689647581223, 0.2303689647581223, 0.2303689647581223, 0.2303689647581223, 0.23635775933588976, 0.23635775933588976, 0.23635775933588976, 0.23635775933588976, 0]\n"
     ]
    }
   ],
   "source": [
    "print(tf_idf_total[keywords[0]])"
   ]
  },
  {
   "cell_type": "code",
   "execution_count": 40,
   "metadata": {},
   "outputs": [
    {
     "name": "stdout",
     "output_type": "stream",
     "text": [
      "[0.14635576007368015, 0.14635576007368015, 0.14642530485242491, 0.1462962676844848, 0.14641854348469663, 0.1462883814904153, 0.14579315944743124, 0.1455219673184154, 0.14630718416421767, 0.1438971822472854]\n"
     ]
    }
   ],
   "source": [
    "year_sums = [0] * len(columns)\n",
    "for keyword in keywords: # Going through all of the keywords\n",
    "    if type(tf_idf_total[keyword]) == int: # This is a redundant invalid check\n",
    "        continue\n",
    "    for column in range(len(columns)): # Go through all of the years\n",
    "        year_sums[column] += tf_idf_total[keyword][column] # Adding up all the sums per year \n",
    "    \n",
    "for column in range(len(columns)): \n",
    "    # print(document_count[column])   \n",
    "    year_sums[column] /= document_count[column]\n",
    "print(year_sums[:10])"
   ]
  },
  {
   "cell_type": "code",
   "execution_count": 41,
   "metadata": {},
   "outputs": [
    {
     "name": "stdout",
     "output_type": "stream",
     "text": [
      "325 [Timestamp('2023-10-01 00:00:00'), Timestamp('2023-09-01 00:00:00'), Timestamp('2023-08-01 00:00:00')]\n"
     ]
    },
    {
     "data": {
      "text/plain": [
       "[<matplotlib.lines.Line2D at 0x14c1965d0>]"
      ]
     },
     "execution_count": 41,
     "metadata": {},
     "output_type": "execute_result"
    },
    {
     "data": {
      "image/png": "[encoded data removed]",
      "text/plain": [
       "<Figure size 800x600 with 1 Axes>"
      ]
     },
     "metadata": {},
     "output_type": "display_data"
    }
   ],
   "source": [
    "columns = pd.to_datetime(list(df.columns)) # Going back to the original dataframe and getting the columns from there\n",
    "columns = list(columns) # Turning it from Pandas format to list format\n",
    "\n",
    "print(len(columns), columns[:3])\n",
    "\n",
    "import matplotlib.pyplot as plt\n",
    "fig, ax = plt.subplots(figsize=(8,6))\n",
    "ax.plot(columns, list(year_sums)) # Plotting it!"
   ]
  }
 ],
 "metadata": {
  "kernelspec": {
   "display_name": "linegym",
   "language": "python",
   "name": "python3"
  },
  "language_info": {
   "codemirror_mode": {
    "name": "ipython",
    "version": 3
   },
   "file_extension": ".py",
   "mimetype": "text/x-python",
   "name": "python",
   "nbconvert_exporter": "python",
   "pygments_lexer": "ipython3",
   "version": "3.12.4"
  }
 },
 "nbformat": 4,
 "nbformat_minor": 2
}
