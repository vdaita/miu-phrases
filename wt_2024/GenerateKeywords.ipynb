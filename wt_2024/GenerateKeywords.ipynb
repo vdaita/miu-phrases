{
 "cells": [
  {
   "cell_type": "code",
   "execution_count": 1,
   "metadata": {},
   "outputs": [],
   "source": [
    "from gensim.models.keyedvectors import KeyedVectors\n",
    "from gensim.models import Word2Vec\n",
    "\n",
    "model = Word2Vec.load(\"bigram_model.model\")\n",
    "model = model.wv"
   ]
  },
  {
   "cell_type": "code",
   "execution_count": 2,
   "metadata": {},
   "outputs": [
    {
     "data": {
      "text/plain": [
       "332136"
      ]
     },
     "execution_count": 2,
     "metadata": {},
     "output_type": "execute_result"
    }
   ],
   "source": [
    "len(list(model.key_to_index.keys()))"
   ]
  },
  {
   "cell_type": "code",
   "execution_count": 3,
   "metadata": {},
   "outputs": [],
   "source": [
    "seed_words_antiforeign = [\n",
    "    \"foreign\", \"outsider\", \"alien\", \"overseas\", \"imported\", \"external\", \"foreign-made\",\n",
    "    \"unpatriotic\", \"un-American\", \"unauthorized\", \"counterfeit\", \"offshore\"\n",
    "]\n",
    "\n",
    "seed_words_fairness = [\n",
    "    \"labor\", \"unions\", \"rights\", \"equality\", \"justice\", \"diversity\", \"inclusion\", \n",
    "    \"fairness\", \"safety\", \"wages\", \"benefits\", \"respect\", \"dignity\", \n",
    "    \"opportunity\", \"representation\"\n",
    "]\n",
    "\n",
    "seed_words_job_growth = [\n",
    "    \"local\", \"hire american\", \"growth\", \"opportunity\", \"employment\", \"workforce\", \n",
    "    \"development\", \"innovation\", \"careers\", \"training\", \"industries\", \"jobs\", \n",
    "    \"economy\", \"expansion\", \"businesses\", \"investment\", \"prosperity\", \"entrepreneurship\", \n",
    "    \"skilled labor\"\n",
    "]\n",
    "\n",
    "seed_words_military = [\n",
    "    \"service\", \"honor\", \"valor\", \"duty\", \"patriotism\", \n",
    "    \"sacrifice\", \"courage\", \"mission\", \"integrity\", \"loyalty\", \n",
    "    \"freedom\", \"strength\", \"security\", \"leadership\", \"heroes\"\n",
    "]\n",
    "\n",
    "seed_words_miu = [\n",
    "    \"domestic\", \"local\", \"patriotic\", \"homegrown\", \"American-made\",\n",
    "    \"regional\", \"community\", \"in-house\",\n",
    "    \"national\", \"loyal\", \"heritage\"\n",
    "]\n",
    "\n",
    "seed_words_pride =  [\n",
    "    \"american\",\n",
    "    \"usa-made\",\n",
    "    \"craftsmanship\",\n",
    "    \"durability\",\n",
    "    \"quality\",\n",
    "    \"reliable\",\n",
    "    \"precision\",\n",
    "    \"handcrafted\",\n",
    "    \"engineered\",\n",
    "    \"superior\",\n",
    "    \"authentic\",\n",
    "    \"resilient\",\n",
    "    \"premium\",\n",
    "    \"trusted\",\n",
    "    \"innovative\"\n",
    "]\n",
    "\n",
    "seed_words_quality = [\n",
    "    \"craftsmanship\", \"durability\", \"precision\", \"excellence\", \"superior\", \n",
    "    \"integrity\", \"workmanship\", \"innovation\", \"reliability\", \"tradition\", \n",
    "    \"expertise\", \"authenticity\", \"heritage\", \"quality\", \"trust\"\n",
    "]"
   ]
  },
  {
   "cell_type": "code",
   "execution_count": 4,
   "metadata": {},
   "outputs": [],
   "source": [
    "seed_words = {\n",
    "    \"antiforeign\": seed_words_antiforeign,\n",
    "    \"fairness\": seed_words_fairness,\n",
    "    \"job_growth\": seed_words_job_growth,\n",
    "    \"military\": seed_words_military,\n",
    "    \"miu\": seed_words_miu,\n",
    "    \"pride\": seed_words_pride,\n",
    "    \"quality\": seed_words_quality\n",
    "}"
   ]
  },
  {
   "cell_type": "code",
   "execution_count": 5,
   "metadata": {},
   "outputs": [
    {
     "name": "stderr",
     "output_type": "stream",
     "text": [
      "100%|██████████| 7508235/7508235 [00:11<00:00, 681532.24it/s]\n"
     ]
    },
    {
     "name": "stdout",
     "output_type": "stream",
     "text": [
      "Bigrams not added to index count:  29578\n"
     ]
    }
   ],
   "source": [
    "from gensim.utils import tokenize\n",
    "import faiss\n",
    "import numpy as np\n",
    "from tqdm import tqdm\n",
    "\n",
    "index = faiss.IndexFlatL2(384)\n",
    "\n",
    "corpus = open(\"corpus_replaced.txt\", \"r\").read()\n",
    "corpus = list(tokenize(corpus, lowercase=True))\n",
    "\n",
    "bigrams = []\n",
    "bigram_embeddings = []\n",
    "not_added = 0\n",
    "\n",
    "added_words_1 = {\n",
    "\n",
    "}\n",
    "\n",
    "for i in tqdm(range(len(corpus) - 1)):\n",
    "    if corpus[i] in model and corpus[i + 1] in model:\n",
    "        if not corpus[i] in added_words_1:\n",
    "            added_words_1[corpus[i]] = {}\n",
    "        if not corpus[i + 1] in added_words_1[corpus[i]]:\n",
    "            bigrams.append((corpus[i], corpus[i + 1]))\n",
    "            bigram_embeddings.append((model[corpus[i]] + model[corpus[i + 1]]) / 2)\n",
    "            added_words_1[corpus[i]][corpus[i + 1]] = True\n",
    "    else:\n",
    "        # print(\"Not added: \", corpus[i], corpus[i + 1])\n",
    "        not_added += 1\n",
    "\n",
    "index.add(np.array(bigram_embeddings))\n",
    "\n",
    "print(\"Bigrams not added to index count: \", not_added)"
   ]
  },
  {
   "cell_type": "code",
   "execution_count": 6,
   "metadata": {},
   "outputs": [
    {
     "name": "stdout",
     "output_type": "stream",
     "text": [
      "Total bigrams added to index:  1916114\n"
     ]
    }
   ],
   "source": [
    "print(\"Total bigrams added to index: \", len(bigram_embeddings))"
   ]
  },
  {
   "cell_type": "code",
   "execution_count": 19,
   "metadata": {},
   "outputs": [
    {
     "name": "stderr",
     "output_type": "stream",
     "text": [
      " 43%|████▎     | 3/7 [00:01<00:01,  2.18it/s]"
     ]
    },
    {
     "name": "stdout",
     "output_type": "stream",
     "text": [
      "['yasmin foreign', 'foreign pharmacies', 'foreign allies', 'filed foreign', 'overseas representing', 'forging associations', 'furthermore installing', 'sephra servicing', 'servicing sephra', 'cheaper counterfeit', 'import playlists', 'unauthorized attempts', 'foreign lands', 'welfare counterfeit', 'beware fake', 'species permit', 'hazardous fluids', 'automobile reimbursement', 'cannondale modifications', 'encounter hazardous', 'sweatshop overseas', 'customization invert', 'offshore maxit', 'separate entities', 'tuning servicing', 'fake political', 'trace bargains', 'amrapur overseas', 'liking customization', 'emerging evidence', 'overseas lawson', 'charter compensation', 'customization refinishing', 'multichannel fulfillment', 'battlefield offshore', 'nuclear biological', 'transmissions posting', 'incorporate merchant', 'vending translate', 'releasing automobile', 'separate entity', 'competitor references', 'decorate fulfillment', 'references interfaces', 'million funding', 'institutional effectiveness', 'archival photographs', 'overseas substitutes', 'fraudulent fake', 'inferior perhaps', 'offshore mervin', 'certainteed ceilings', 'soldier photographs', 'authorised resellers', 'dropship fulfillment', 'fraudulent mechanism', 'compensation crary', 'federally illegal', 'bathrobe customization', 'accurately reflecting', 'fulfillment judging', 'appropriate authors', 'hazardous surroundings', 'publishing empowering', 'lawyers offshore', 'offshore lawyers', 'leasing municipal', 'imports alcoholic', 'amateur woodworkers', 'woodworkers mastergage', 'scholarship boring', 'offshore logistics', 'bolide customization', 'confidential arbitration', 'customization bathrobes', 'notable enhancement', 'tolerance allied', 'lisinopril dangerous', 'segments upscale', 'auction spectacular', 'viable sources', 'abilities languages', 'xenical dangerous', 'merchandising goodies', 'foreign languages', 'destruction dapwood', 'duplicated counterfeit', 'linings wholesaler', 'administrative marking', 'clinical approaches', 'lipitor interaction', 'inherent risks', 'disposal fortunately', 'illegal criminal', 'segments scalable', 'outperform competing', 'emerging preference', 'biological attacks', 'carportscarport installers', 'friction permit']\n",
      "['demands attendee', 'harvesting guidelines', 'treating guidelines', 'mutual respect', 'happiness exhibit', 'diversity educate', 'exhibitor demands', 'inclusion pledge', 'wineries organize', 'ongoing conflict', 'conduct conflict', 'collective liability', 'inclusion accountability', 'dependability apec', 'accounting rule', 'inclusion belonging', 'utmost respect', 'proving eligibility', 'housing pledge', 'lively diversity', 'fulfillment demands', 'emerging preference', 'grind relationships', 'bandwidth demands', 'wineries compared', 'fulfillment promises', 'competing demands', 'collectively raising', 'commitments conflict', 'majority shareholder', 'respect unconditionally', 'honesty ethics', 'decisions accountability', 'barely notices', 'challenges smp', 'compensation committee', 'committee compensation', 'concerning risks', 'compassion rule', 'decisions managing', 'pandemic preparedness', 'strict liability', 'retain resale', 'conduct electricity', 'agency bartender', 'hometown ethical', 'strategic direction', 'discuss coaching', 'ethical beliefs', 'funding crowd', 'crowd funding', 'political interests', 'hardest efforts', 'fund childhood', 'raising funds', 'conduct surveys', 'challenging demands', 'procurement funding', 'profits shareholder', 'demanding routes', 'institutional effectiveness', 'respect dignity', 'wwii efforts', 'maintains offices', 'worst abuse', 'nexium guidelines', 'abuse prevention', 'strategies wealth', 'simplify procedures', 'preference nurture', 'hitting guidelines', 'uncompromising declaration', 'illegal conduct', 'compassion integrity', 'strict harvesting', 'offices grandson', 'respect kindness', 'competent jurisdiction', 'governing principles', 'guidelines offsets', 'relationships encouraging', 'strict criteria', 'talent recognition', 'mood regulation', 'profiles mood', 'diversity workforce', 'workforce diversity', 'affecting accuracy', 'bleeding guidelines', 'facilitate excellence', 'economic crisis', 'accuracy resident', 'rehabilitation efforts', 'citizens committee', 'remodeling contractors', 'workplace insights', 'incentive recognition', 'insights infection', 'homeowners generate', 'judges decisions']\n",
      "['guidelines dakin', 'coaching strategies', 'fundraising initiatives', 'profits foodservice', 'extraordinary conservation', 'mba employment', 'exhibits employment', 'businesses hanwha', 'discuss coaching', 'partnerships investment', 'excellence hansgrohe', 'bulletproof coaching', 'businesses exhibits', 'diagnostics businesses', 'connections partnerships', 'efforts bigelow', 'employment barriers', 'clinical excellence', 'honest insights', 'investment strategy', 'aids coaching', 'coaching scientific', 'bio diversity', 'coaching charity', 'fund raising', 'developers businesses', 'fundraising efforts', 'capability strategic', 'strategic direction', 'associates consulting', 'exhibit excellence', 'yokohama partnerships', 'profit charity', 'dignified employment', 'resource leaders', 'employment performers', 'suppliers caterpillar', 'conservation alliance', 'meaningful partnerships', 'organizing businesses', 'capital fund', 'employment barstow', 'cisco ecosystem', 'capital investment', 'allergens employment', 'smp resource', 'excellence christian', 'initiatives carpets', 'conservation efforts', 'diversity workforce', 'workforce diversity', 'recognition philanthropy', 'spouse employment', 'sources sponsorships', 'profit initiative', 'workforce insights', 'fulfillment demands', 'excellence tailgating', 'balloon businesses', 'ecosystem developers', 'collaborative efforts', 'operational excellence', 'tenneco suppliers', 'auterion insights', 'insights auterion', 'motorsports homeowners', 'investment fund', 'suppliers tesla', 'charity fund', 'valuable partnerships', 'facing employment', 'charitable efforts', 'pintech partnerships', 'aesthetics solaria', 'workplace consulting', 'auterion ecosystem', 'ecosystem auterion', 'ownership electrification', 'maritime organizations', 'organizations motus', 'critical honors', 'consulting collaboration', 'compensation philosophy', 'remarkable investment', 'welcoming businesses', 'homeowners builders', 'businesses lumos', 'suppliers trusty', 'usc businesses', 'technician suppliers', 'profit exploring', 'homeowners installers', 'kinze farming', 'strategic initiatives', 'talent recognition', 'healthcare expertise', 'charitable initiatives', 'ongoing deliveries', 'fleetwood reliability', 'aprilaire employee']\n"
     ]
    },
    {
     "name": "stderr",
     "output_type": "stream",
     "text": [
      " 71%|███████▏  | 5/7 [00:01<00:00,  3.76it/s]"
     ]
    },
    {
     "name": "stdout",
     "output_type": "stream",
     "text": [
      "['knowledgeable lantern', 'enduring dedication', 'excellence dawson', 'grind relationships', 'excellence dennymike', 'expectations vortex', 'reliability vesper', 'wwii efforts', 'housing pledge', 'honor underworks', 'distinct courses', 'exhibit excellence', 'dependability apec', 'accuracy resident', 'fulfillment promises', 'honor allied', 'reliability dehumidifier', 'reliability trenchers', 'reliability professionalism', 'honor builders', 'headset promise', 'spreading capability', 'flexibility mautto', 'accuracy cradle', 'exercises revolution', 'expertise intermediate', 'fierce reliability', 'ecosystem preserve', 'strict transport', 'truth integrity', 'acquisition specialist', 'marathon flexibility', 'freshness bluapple', 'prestigious honor', 'purity geometry', 'reverso excellence', 'excellence crown', 'beside accuracy', 'compassion integrity', 'represents authenticity', 'exhibitor demands', 'leaders implement', 'scientific revolution', 'bulletproof coaching', 'perfection bookshelf', 'excellence unite', 'demands attendee', 'exploration nasa', 'reimbursement transition', 'dependable logistics', 'ambassadors submersible', 'remarkable tale', 'reliability rotax', 'fulfillment demands', 'unmatched masterpieces', 'tradesman capability', 'dependability expertise', 'facilitate excellence', 'cellular integrity', 'wineries compared', 'troops etherton', 'citizen heroes', 'loyal cooktek', 'aesthetics solaria', 'excellence irt', 'integrity ali', 'accuracy dustin', 'salon perfection', 'transition advisors', 'cradle initiatives', 'excellence tailgating', 'ecosystem battle', 'dependable hornady', 'hiker unrivaled', 'endurance fulfillment', 'reaching excellence', 'compute ecosystem', 'capability enhancement', 'pursuing excellence', 'fandango convenience', 'shopper assurance', 'stability pse', 'circular transition', 'analysis dna', 'dna analysis', 'scalable fleet', 'purity harmony', 'connectivity maximize', 'promise extends', 'unconditional bond', 'conduct electricity', 'justice partnerships', 'watchmaking perfection', 'integrity honor', 'honor command', 'moa accuracy', 'retain collaboration', 'infrastructure imaginable', 'reliability coleman', 'continuum employee']\n",
      "['historical society', 'suburban farmer', 'southwestern community', 'historical origins', 'mennonite communities', 'community dakin', 'communities police', 'ambassadors regional', 'century designers', 'costume suppliers', 'regional religion', 'historical timeline', 'pleasure allied', 'offices movie', 'pse regional', 'knowledgeable lantern', 'highland community', 'regional midwest', 'midwest regional', 'snowboard communities', 'christian community', 'council meeting', 'goats miniature', 'steinway restoration', 'metro regional', 'heritage merchant', 'journey miniature', 'sourcing farmer', 'heritage dating', 'boating pleasure', 'steinway schools', 'resort celebrates', 'troops etherton', 'rural community', 'teams bespoke', 'excellence christian', 'resort directors', 'cowboy farmer', 'hyper community', 'extraordinary conservation', 'nation regional', 'christian principles', 'utah conservation', 'graystone heritage', 'christian church', 'heritage breweries', 'finex community', 'agricultural heritage', 'hospitality uniform', 'troops partnerships', 'suburban farmers', 'regional dating', 'independence heritage', 'community scottsdale', 'odds community', 'monument historic', 'community honoring', 'sheep conservation', 'honors domestic', 'historical train', 'community chuck', 'century council', 'trifold community', 'heritage specialists', 'logging heritage', 'schools continues', 'vineyard hospitality', 'faith police', 'inspiring church', 'historical attraction', 'producer community', 'historical edgefield', 'community piedmont', 'authentic hospitality', 'thriving community', 'community budweiser', 'national foreign', 'collector loyal', 'supporting noble', 'community reflecting', 'exploration historic', 'neighborhood hallmark', 'regional agriculture', 'vibrant community', 'culinary enthusiast', 'heritage spanning', 'galleries midwest', 'sunflower community', 'baltimore fundraising', 'neighborhood alchemy', 'foreign medals', 'berkeley hospitality', 'teams sacramento', 'brick volunteer', 'communities civil', 'buildings culinary', 'southeastern community', 'blanks farmers', 'community preschool', 'community surrounding']\n",
      "['calphalon superior', 'superior dependable', 'exceptional timepieces', 'manufacture superior', 'superior ergonomically', 'ergonomically superior', 'superior workmanship', 'capability luxurious', 'dependable sturdy', 'sourcing superior', 'producing superior', 'supplying superior', 'prepared superior', 'manufactures superior', 'formulations superior', 'blending superior', 'superior blending', 'legendary reliability', 'exceptional workmanship', 'responsive textile', 'innovative artistry', 'superior accuracy', 'superior layering', 'superior balsa', 'precise craftsmanship', 'craftsmanship precise', 'uncompromising reliability', 'innovative circular', 'unrivaled craftsmanship', 'environmentally superior', 'superior applique', 'combining luxurious', 'superior traction', 'flexibility superior', 'superior flexibility', 'exceptional timepiece', 'innovative rigid', 'cuddledown superior', 'associates superior', 'precise workmanship', 'precise timepieces', 'unmatched flexibility', 'combining innovative', 'outstanding workmanship', 'superb craftsmanship', 'dependable durability', 'superior craftsmanship', 'craftsmanship superior', 'reliability atlas', 'accurate woodworking', 'superior architectural', 'elegance engineered', 'superior geometry', 'consistently superior', 'exceptional creation', 'superior warmth', 'uncompromising workmanship', 'remarkable durability', 'unmatched excellence', 'superior softness', 'innovative spinner', 'innovative lean', 'unmatched orthopedic', 'exceptional blending', 'blending exceptional', 'innovative formulas', 'superior cremo', 'exceptional accuracy', 'smokin superior', 'uncompromising excellence', 'superior agricultural', 'superior cattle', 'complex engineered', 'sells innovative', 'dependable innovative', 'innovative dependable', 'superior yacht', 'superior friction', 'accuracy artisan', 'superior piecing', 'excellence premier', 'producing precision', 'innovative buttery', 'innovative producers', 'legendary accuracy', 'authentic connections', 'superior structural', 'exceptional capability', 'superior musical', 'percussion superior', 'luxurious craftsmanship', 'unmatched capability', 'innovative whiskeys', 'craftsmanship sophisticated', 'exceptional renewable', 'enables superior', 'exceptional talent', 'superior definition', 'unparalleled elegance', 'kickstarter superior']\n"
     ]
    },
    {
     "name": "stderr",
     "output_type": "stream",
     "text": [
      "100%|██████████| 7/7 [00:02<00:00,  3.43it/s]"
     ]
    },
    {
     "name": "stdout",
     "output_type": "stream",
     "text": [
      "['uncompromising excellence', 'unmatched excellence', 'unrivaled craftsmanship', 'uncompromising reliability', 'remarkable durability', 'bulletproof durability', 'superb craftsmanship', 'durability enduring', 'reliability longevity', 'durability kistler', 'workmanship accuracy', 'integrity durability', 'uncompromising craftsmanship', 'uncompromising workmanship', 'precise craftsmanship', 'craftsmanship precise', 'dynamics craftsmanship', 'demands reliability', 'unsurpassed craftsmanship', 'durability englander', 'clinical excellence', 'lifelong durability', 'excellence alive', 'tradition accuracy', 'superb accuracy', 'musical excellence', 'excellence hansgrohe', 'craftsmanship exploring', 'consistency reliability', 'dynamics durability', 'dependability durability', 'excellence dawson', 'durability saatva', 'customization durability', 'reliability craftsmanship', 'reliability atlas', 'flexibility reliability', 'relentless reliability', 'innovation uncompromising', 'craftsmanship relentless', 'durability scott', 'flawless craftsmanship', 'innovation unrivaled', 'unrivaled innovation', 'reliability professionalism', 'unmatched craftsmanship', 'durability moduline', 'timing craftsmanship', 'unmatched accuracy', 'legendary reliability', 'accuracy reliability', 'reliability accuracy', 'durability flawless', 'fierce reliability', 'reliability tests', 'artisanal excellence', 'versatility reliability', 'reliability versatility', 'demands innovation', 'superb workmanship', 'craftsmanship counterfeit', 'gatorz durability', 'extraordinary craftsmanship', 'unmatched expertise', 'craftsmanship sophisticated', 'flawless reliability', 'exhibit excellence', 'unwavering durability', 'durability yokohama', 'durability simplified', 'unmatched flexibility', 'proven excellence', 'innovation movements', 'craftsmanship movements', 'impeccable craftsmanship', 'kubota durability', 'craftsmanship purdy', 'craftsmanship elzetta', 'sacrifice reliability', 'craftsmanship artistry', 'artistry craftsmanship', 'caring craftsmanship', 'americans reliability', 'innovation excellence', 'fleetwood reliability', 'durability playability', 'precise workmanship', 'unmatched longevity', 'formulations innovation', 'breathability durability', 'meets accuracy', 'alternatives durability', 'dependable durability', 'delivering excellence', 'outstanding workmanship', 'excellence steinway', 'craftsmanship guarantees', 'legendary accuracy', 'maximizing durability', 'craftsmanship frequent']\n"
     ]
    },
    {
     "name": "stderr",
     "output_type": "stream",
     "text": [
      "\n"
     ]
    }
   ],
   "source": [
    "import numpy as np\n",
    "from tqdm import tqdm\n",
    "from openai import OpenAI\n",
    "from dotenv import load_dotenv\n",
    "import os\n",
    "import json\n",
    "from rapidfuzz import process\n",
    "\n",
    "load_dotenv(\".env\")\n",
    "\n",
    "generated_words = \"\"\n",
    "generated_words_json = {}\n",
    "\n",
    "client = OpenAI(\n",
    "    api_key=os.environ[\"OPENAI_API_KEY\"]\n",
    ")\n",
    "\n",
    "filtered_seed_words = {}\n",
    "\n",
    "for category in tqdm(seed_words):\n",
    "    filtered_words = [word for word in seed_words[category] if word in model.key_to_index]\n",
    "    filtered_seed_words[category] = filtered_words\n",
    "    vectors = [model[word] for word in filtered_words]\n",
    "    average_vector = np.mean(vectors, axis=0)\n",
    "\n",
    "    similar_bigrams = index.search(average_vector.reshape(1, -1), 100)\n",
    "    similar_bigrams = [bigrams[i] for i in similar_bigrams[1][0]]\n",
    "    similar_bigrams = [f\"{bigram[0]} {bigram[1]}\" for bigram in similar_bigrams]\n",
    "\n",
    "    generated_words += f\"\\n\\n\\n## {category}:\\n\"\n",
    "    generated_words += \"\\n\".join(similar_bigrams)\n",
    "\n",
    "    # response = client.chat.completions.create(\n",
    "    #     messages=[{\n",
    "    #         \"role\": \"system\",\n",
    "    #         \"content\": \"\"\"Select the 150 most relevant keywords that should be included in this. Response JSON format: {\"sorted_keywords\": [\"bigram1\", \"bigram2\", ...]}\"\"\"\n",
    "    #     }, {\n",
    "    #         \"role\": \"user\",\n",
    "    #         \"content\": f\"# Category: {category} sentiment from an American company \\n\\n# Bigrams:\\n{json.dumps(similar_bigrams)}\"\n",
    "    #     }],\n",
    "    #     model=\"gpt-4o\",\n",
    "    #     # temperature=0.0,\n",
    "    #     response_format={\"type\": \"json_object\"}\n",
    "    # )\n",
    "    # response = response.choices[0].message.content\n",
    "    # response = json.loads(response)\n",
    "    # refined_bigrams = response[\"sorted_keywords\"]\n",
    "\n",
    "    print(similar_bigrams)\n",
    "    refined_bigrams = similar_bigrams\n",
    "\n",
    "    # valid_bigrams = []\n",
    "    # for bigram in refined_bigrams:\n",
    "    #     if bigram.strip() in similar_bigrams:\n",
    "    #         valid_bigrams.append(bigram.strip())\n",
    "    #     else:\n",
    "    #         print(f\"Bigram not found: {bigram}\")\n",
    "    #     if len(valid_bigrams) >= 100:\n",
    "    #         break\n",
    "\n",
    "    # print(\"Found bigrams length: \", len(valid_bigrams))\n",
    "\n",
    "    # refined_bigrams = valid_bigrams\n",
    "\n",
    "    removal = []\n",
    "    for word_1 in refined_bigrams:\n",
    "        for word_2 in refined_bigrams:\n",
    "            if word_1 in word_2 and word_1 != word_2:\n",
    "                removal.append(word_2)\n",
    "\n",
    "    refined_bigrams = [word for word in refined_bigrams if word not in removal]\n",
    "\n",
    "    # generated_words += f\"\\n\\n\\n## {category} Refined Bigrams:\\n\"\n",
    "    # generated_words += \"\\n\".join(refined_bigrams)\n",
    "\n",
    "    generated_words_json[category] = refined_bigrams"
   ]
  },
  {
   "cell_type": "code",
   "execution_count": 20,
   "metadata": {},
   "outputs": [],
   "source": [
    "generated_words = \"# Seed words dictionary \\n\" + json.dumps(filtered_seed_words, indent=4) + generated_words"
   ]
  },
  {
   "cell_type": "code",
   "execution_count": 21,
   "metadata": {},
   "outputs": [],
   "source": [
    "with open(\"generated_words.txt\", \"w\") as f:\n",
    "    f.write(generated_words)"
   ]
  },
  {
   "cell_type": "code",
   "execution_count": 22,
   "metadata": {},
   "outputs": [],
   "source": [
    "with open(\"generated_words.json\", \"w\") as f:\n",
    "    json.dump(generated_words_json, f)"
   ]
  },
  {
   "cell_type": "code",
   "execution_count": 23,
   "metadata": {},
   "outputs": [
    {
     "name": "stdout",
     "output_type": "stream",
     "text": [
      "antiforeign: 100\n",
      "fairness: 100\n",
      "job_growth: 100\n",
      "military: 100\n",
      "miu: 99\n",
      "pride: 99\n",
      "quality: 100\n"
     ]
    }
   ],
   "source": [
    "for narrative in generated_words_json:\n",
    "    print(f\"{narrative}: {len(generated_words_json[narrative])}\")"
   ]
  },
  {
   "cell_type": "code",
   "execution_count": 12,
   "metadata": {},
   "outputs": [],
   "source": [
    "# Find 100 words close to this averaged vector.\n"
   ]
  },
  {
   "cell_type": "code",
   "execution_count": 13,
   "metadata": {},
   "outputs": [
    {
     "name": "stdout",
     "output_type": "stream",
     "text": [
      "Len before:  102\n",
      "[\n",
      "    \"achieving\",\n",
      "    \"artistic\",\n",
      "    \"artistry\",\n",
      "    \"assurance\",\n",
      "    \"attention\",\n",
      "    \"authentic\",\n",
      "    \"capability\",\n",
      "    \"clarity\",\n",
      "    \"comfort\",\n",
      "    \"commitment\",\n",
      "    \"confidence\",\n",
      "    \"consistency\",\n",
      "    \"construction\",\n",
      "    \"craft\",\n",
      "    \"creating\",\n",
      "    \"creativity\",\n",
      "    \"culture\",\n",
      "    \"dedicated\",\n",
      "    \"dedication\",\n",
      "    \"dependability\",\n",
      "    \"dependable\",\n",
      "    \"detail\",\n",
      "    \"development\",\n",
      "    \"distinct\",\n",
      "    \"driven\",\n",
      "    \"durability\",\n",
      "    \"elegance\",\n",
      "    \"endurance\",\n",
      "    \"enduring\",\n",
      "    \"engineered\",\n",
      "    \"engineers\",\n",
      "    \"environment\",\n",
      "    \"excellence\",\n",
      "    \"exceptional\",\n",
      "    \"expectations\",\n",
      "    \"experienced\",\n",
      "    \"expertise\",\n",
      "    \"exquisite\",\n",
      "    \"extraordinary\",\n",
      "    \"fabrication\",\n",
      "    \"finest\",\n",
      "    \"flawless\",\n",
      "    \"greatest\",\n",
      "    \"groundbreaking\",\n",
      "    \"growth\",\n",
      "    \"heritage\",\n",
      "    \"highest\",\n",
      "    \"honesty\",\n",
      "    \"industry\",\n",
      "    \"innovation\",\n",
      "    \"integration\",\n",
      "    \"integrity\",\n",
      "    \"knowledge\",\n",
      "    \"leadership\",\n",
      "    \"legacy\",\n",
      "    \"longevity\",\n",
      "    \"masterful\",\n",
      "    \"materials\",\n",
      "    \"meticulous\",\n",
      "    \"perfection\",\n",
      "    \"performance\",\n",
      "    \"perseverance\",\n",
      "    \"philosophy\",\n",
      "    \"pioneering\",\n",
      "    \"precision\",\n",
      "    \"pride\",\n",
      "    \"professionalism\",\n",
      "    \"professionals\",\n",
      "    \"providing\",\n",
      "    \"pursuit\",\n",
      "    \"quality\",\n",
      "    \"refined\",\n",
      "    \"refinement\",\n",
      "    \"reliability\",\n",
      "    \"reliable\",\n",
      "    \"remarkable\",\n",
      "    \"resilience\",\n",
      "    \"rigorous\",\n",
      "    \"rugged\",\n",
      "    \"scientists\",\n",
      "    \"skill\",\n",
      "    \"sophistication\",\n",
      "    \"specialized\",\n",
      "    \"standards\",\n",
      "    \"strength\",\n",
      "    \"strong\",\n",
      "    \"superior\",\n",
      "    \"sustainable\",\n",
      "    \"technology\",\n",
      "    \"timeless\",\n",
      "    \"toughness\",\n",
      "    \"tradition\",\n",
      "    \"unmatched\",\n",
      "    \"unparalleled\",\n",
      "    \"unwavering\",\n",
      "    \"vision\",\n",
      "    \"workmanship\"\n",
      "]\n",
      "97 removed 5 words\n",
      "['authenticity', 'craftsmanship', 'distinctive', 'innovations', 'skilled']\n"
     ]
    }
   ],
   "source": [
    "import json\n",
    "\n",
    "words = [\n",
    "    \"craftsmanship\", \"excellence\", \"longevity\", \"reliability\", \"integrity\", \n",
    "    \"innovation\", \"durability\", \"superior\", \"dedication\", \"unmatched\", \n",
    "    \"exceptional\", \"expertise\", \"precision\", \"quality\", \"refinement\", \n",
    "    \"standards\", \"authenticity\", \"workmanship\", \"dependability\", \"tradition\", \n",
    "    \"unparalleled\", \"strength\", \"commitment\", \"consistency\", \"remarkable\", \n",
    "    \"legacy\", \"elegance\", \"perfection\", \"knowledge\", \"toughness\", \n",
    "    \"professionalism\", \"skill\", \"performance\", \"capability\", \"dedicated\", \n",
    "    \"refined\", \"attention\", \"unwavering\", \"extraordinary\", \"industry\", \n",
    "    \"artistry\", \"enduring\", \"resilience\", \"highest\", \"specialized\", \n",
    "    \"innovations\", \"providing\", \"engineers\", \"pursuit\", \"detail\", \n",
    "    \"technology\", \"masterful\", \"timeless\", \"professionals\", \"finest\", \n",
    "    \"skilled\", \"artistic\", \"authentic\", \"heritage\", \"materials\", \n",
    "    \"rigorous\", \"honesty\", \"vision\", \"assurance\", \"greatest\", \n",
    "    \"strong\", \"engineered\", \"creating\", \"sustainable\", \"growth\", \n",
    "    \"fabrication\", \"scientists\", \"driven\", \"craft\", \"culture\", \n",
    "    \"flawless\", \"exquisite\", \"dependable\", \"pride\", \"creativity\", \n",
    "    \"meticulous\", \"achieving\", \"groundbreaking\", \"development\", \n",
    "    \"reliable\", \"expectations\", \"experienced\", \"perseverance\", \n",
    "    \"environment\", \"construction\", \"sophistication\", \"pioneering\", \n",
    "    \"rugged\", \"comfort\", \"philosophy\", \"confidence\", \"clarity\", \n",
    "    \"endurance\", \"distinctive\", \"leadership\", \"distinct\", \"integration\"\n",
    "]\n",
    "words = sorted(list(set(words)))\n",
    "\n",
    "removal = []\n",
    "for word_1 in words:\n",
    "    for word_2 in words:\n",
    "        if word_1 in word_2 and word_1 != word_2:\n",
    "            removal.append(word_2)\n",
    "\n",
    "print(\"Len before: \", len(words))\n",
    "\n",
    "words = [word for word in words if word not in removal]\n",
    "print(json.dumps(words, indent=4))\n",
    "print(len(words), f\"removed {len(removal)} words\")\n",
    "print(removal)"
   ]
  },
  {
   "cell_type": "code",
   "execution_count": null,
   "metadata": {},
   "outputs": [],
   "source": []
  }
 ],
 "metadata": {
  "kernelspec": {
   "display_name": "research",
   "language": "python",
   "name": "python3"
  },
  "language_info": {
   "codemirror_mode": {
    "name": "ipython",
    "version": 3
   },
   "file_extension": ".py",
   "mimetype": "text/x-python",
   "name": "python",
   "nbconvert_exporter": "python",
   "pygments_lexer": "ipython3",
   "version": "3.12.3"
  }
 },
 "nbformat": 4,
 "nbformat_minor": 2
}
