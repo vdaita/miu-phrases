{
 "cells": [
  {
   "cell_type": "code",
   "execution_count": 2,
   "metadata": {},
   "outputs": [
    {
     "name": "stdout",
     "output_type": "stream",
     "text": [
      "Index(['Unnamed: 0', 'std_name', 'company_name', 'company_website_link',\n",
      "       'Made_in_USA_related_info_link', 'notes', 'list_order', 'list_title',\n",
      "       'list_link', 'Title_List_Name',\n",
      "       ...\n",
      "       '1997-07', '1997-06', '1997-05', '1997-04', '1997-03', '1997-02',\n",
      "       '1997-01', '1996-12', '1996-11', '1996-10'],\n",
      "      dtype='object', length=339)\n"
     ]
    },
    {
     "name": "stderr",
     "output_type": "stream",
     "text": [
      "/var/folders/rw/s7c9z30x7fj_2gcngv0yhv6w0000gn/T/ipykernel_80286/1280922479.py:3: DtypeWarning: Columns (300,304,325,328) have mixed types. Specify dtype option on import or set low_memory=False.\n",
      "  df = pd.read_csv(\"company_website_second_round_with_additional_firms.csv\")\n"
     ]
    }
   ],
   "source": [
    "import pandas as pd\n",
    "\n",
    "df = pd.read_csv(\"company_website_second_round_with_additional_firms.csv\")\n",
    "print(df.columns)"
   ]
  },
  {
   "cell_type": "code",
   "execution_count": 3,
   "metadata": {},
   "outputs": [
    {
     "name": "stdout",
     "output_type": "stream",
     "text": [
      "Index(['1996-10', '1996-11', '1996-12', '1997-01', '1997-02', '1997-03',\n",
      "       '1997-04', '1997-05', '1997-06', '1997-07',\n",
      "       ...\n",
      "       '2023-01', '2023-02', '2023-03', '2023-04', '2023-05', '2023-06',\n",
      "       '2023-07', '2023-08', '2023-09', '2023-10'],\n",
      "      dtype='object', length=325)\n"
     ]
    }
   ],
   "source": [
    "selected_cols = reversed([col for col in df.columns if col.startswith(\"1\") or col.startswith(\"2\")])\n",
    "df = df[selected_cols]\n",
    "print(df.columns)"
   ]
  },
  {
   "cell_type": "code",
   "execution_count": 4,
   "metadata": {},
   "outputs": [],
   "source": [
    "keywords = [\n",
    "    \"anti import\",\n",
    "    \"anti-import\",\n",
    "    \"anti smuggling\",\n",
    "    \"china\",\n",
    "    \"chinese\",\n",
    "    \"border watch\",\n",
    "    \"cut sewn\",\n",
    "    \"deglobalization\",\n",
    "    \"design manufacture\",\n",
    "    \"domestic manufacturing\",\n",
    "    \"dumping\",\n",
    "    \"export control\",\n",
    "    \"foreign\",\n",
    "    \"friend shoring\",\n",
    "    \"fueling american economy\",\n",
    "    \"global parts\",\n",
    "    \"global sourcing\",\n",
    "    \"homegrown\",\n",
    "    \"import ban\",\n",
    "    \"import duty\",\n",
    "    \"import export regulations\",\n",
    "    \"import quotas\",\n",
    "    \"import tariffs\",\n",
    "    \"imported components\",\n",
    "    \"imported goods\",\n",
    "    \"imported products\",\n",
    "    \"imports\",\n",
    "    \"india\",\n",
    "    \"ingenuity\",\n",
    "    \"inspection\",\n",
    "    \"international competitors\",\n",
    "    \"international goods\",\n",
    "    \"international orders\",\n",
    "    \"maintain american factories\",\n",
    "    \"manufacturing facility\",\n",
    "    \"manufacturing process\",\n",
    "    \"mexico\",\n",
    "    \"mexican\",\n",
    "    \"nationally\",\n",
    "    \"non us made\",\n",
    "    \"non-u.s. made\",\n",
    "    \"offshore\",\n",
    "    \"offshoring\",\n",
    "    \"outsourcing\",\n",
    "    \"outsourced production\",\n",
    "    \"overseas\",\n",
    "    \"owned operated\",\n",
    "    \"production facility\",\n",
    "    \"protectionism\",\n",
    "    \"protectionist measures\",\n",
    "    \"reshore\",\n",
    "    \"reshoring\",\n",
    "    \"right here\",\n",
    "    \"self sufficiency\",\n",
    "    \"self-sufficiency\",\n",
    "    \"support usa\",\n",
    "    \"supporting\",\n",
    "    \"taiwan\",\n",
    "    \"trade barrier\",\n",
    "    \"trade deficit\",\n",
    "    \"trade war\",\n",
    "    \"u s  based production\",\n",
    "    \"us based company\",\n",
    "    \"weaponizing trade\",\n",
    "    \"prefer domestic\",\n",
    "    \"prefers domestic\",\n",
    "    \"preferring domestic\",\n",
    "    \"choose domestic\",\n",
    "    \"chooses domestic\",\n",
    "    \"choosing domestic\",\n",
    "    \"only domestic\",\n",
    "    \"domestic only\",\n",
    "    \"domestically only\",\n",
    "    \"not outsourc\",\n",
    "    \"doesn't outsource\",\n",
    "    \"dont outsourc\",\n",
    "    \"don't outsourc\",\n",
    "    \"never outsourc\",\n",
    "    \"refus outsourc\",\n",
    "    \"refusing outsourc\",\n",
    "    \"no import\",\n",
    "    \"not import\",\n",
    "    \"doesn't import\",\n",
    "    \"dont import\",\n",
    "    \"don't import\",\n",
    "    \"never import\",\n",
    "    \"stop import\",\n",
    "    \"halt import\",\n",
    "    \"refuse import\",\n",
    "    \"refus import\",\n",
    "    \"refusing import\",\n",
    "    \"ban import\",\n",
    "    \"block import\",\n",
    "    \"america first\",\n",
    "    \"american first\",\n",
    "    \"american sovereignty\",\n",
    "    \"secure america supply chain\",\n",
    "    \"maintain america supply chain\",\n",
    "    \"keep america working\",\n",
    "    \"keep americans employed\"\n",
    "]"
   ]
  },
  {
   "cell_type": "code",
   "execution_count": 7,
   "metadata": {},
   "outputs": [
    {
     "name": "stderr",
     "output_type": "stream",
     "text": [
      "/opt/anaconda3/envs/research/lib/python3.12/site-packages/tqdm/auto.py:21: TqdmWarning: IProgress not found. Please update jupyter and ipywidgets. See https://ipywidgets.readthedocs.io/en/stable/user_install.html\n",
      "  from .autonotebook import tqdm as notebook_tqdm\n",
      "Pandas Apply: 100%|██████████| 325/325 [00:01<00:00, 208.20it/s]\n",
      "Pandas Apply: 100%|██████████| 325/325 [00:01<00:00, 214.37it/s]\n",
      "Pandas Apply: 100%|██████████| 325/325 [00:01<00:00, 210.15it/s]\n",
      "Pandas Apply: 100%|██████████| 325/325 [00:01<00:00, 274.12it/s]\n",
      "Pandas Apply: 100%|██████████| 325/325 [00:01<00:00, 267.55it/s]\n",
      "Pandas Apply: 100%|██████████| 325/325 [00:01<00:00, 317.18it/s]\n",
      "Pandas Apply: 100%|██████████| 325/325 [00:01<00:00, 279.30it/s]\n",
      "Pandas Apply: 100%|██████████| 325/325 [00:01<00:00, 271.39it/s]\n",
      "Pandas Apply: 100%|██████████| 325/325 [00:01<00:00, 271.43it/s]\n",
      "Pandas Apply: 100%|██████████| 325/325 [00:01<00:00, 276.99it/s]\n",
      "Pandas Apply: 100%|██████████| 325/325 [00:01<00:00, 268.87it/s]\n",
      "Pandas Apply: 100%|██████████| 325/325 [00:01<00:00, 190.66it/s]\n",
      "Pandas Apply: 100%|██████████| 325/325 [00:01<00:00, 299.76it/s]\n",
      "Pandas Apply: 100%|██████████| 325/325 [00:01<00:00, 301.71it/s]\n",
      "Pandas Apply: 100%|██████████| 325/325 [00:01<00:00, 300.41it/s]\n",
      "Pandas Apply: 100%|██████████| 325/325 [00:01<00:00, 232.33it/s]\n",
      "Pandas Apply: 100%|██████████| 325/325 [00:01<00:00, 246.39it/s]\n",
      "Pandas Apply: 100%|██████████| 325/325 [00:01<00:00, 246.25it/s]\n",
      "Pandas Apply: 100%|██████████| 325/325 [00:01<00:00, 208.51it/s]\n",
      "Pandas Apply: 100%|██████████| 325/325 [00:01<00:00, 228.22it/s]\n",
      "Pandas Apply: 100%|██████████| 325/325 [00:01<00:00, 229.32it/s]\n",
      "Pandas Apply: 100%|██████████| 325/325 [00:01<00:00, 226.28it/s]\n",
      "Pandas Apply: 100%|██████████| 325/325 [00:01<00:00, 220.44it/s]\n",
      "Pandas Apply: 100%|██████████| 325/325 [00:01<00:00, 219.69it/s]\n",
      "Pandas Apply: 100%|██████████| 325/325 [00:01<00:00, 225.39it/s]\n",
      "Pandas Apply: 100%|██████████| 325/325 [00:01<00:00, 230.27it/s]\n",
      "Pandas Apply: 100%|██████████| 325/325 [00:01<00:00, 220.17it/s]\n",
      "Pandas Apply: 100%|██████████| 325/325 [00:01<00:00, 211.76it/s]\n",
      "Pandas Apply: 100%|██████████| 325/325 [00:01<00:00, 210.94it/s]\n",
      "Pandas Apply: 100%|██████████| 325/325 [00:01<00:00, 212.66it/s]\n",
      "Pandas Apply: 100%|██████████| 325/325 [00:01<00:00, 212.79it/s]\n",
      "Pandas Apply: 100%|██████████| 325/325 [00:01<00:00, 218.03it/s]\n",
      "Pandas Apply: 100%|██████████| 325/325 [00:01<00:00, 202.61it/s]\n",
      "Pandas Apply: 100%|██████████| 325/325 [00:01<00:00, 267.88it/s]\n",
      "Pandas Apply: 100%|██████████| 325/325 [00:01<00:00, 277.31it/s]\n",
      "Pandas Apply: 100%|██████████| 325/325 [00:01<00:00, 267.81it/s]\n",
      "Pandas Apply: 100%|██████████| 325/325 [00:01<00:00, 269.06it/s]\n",
      "Pandas Apply: 100%|██████████| 325/325 [00:01<00:00, 235.44it/s]\n",
      "Pandas Apply: 100%|██████████| 325/325 [00:01<00:00, 232.30it/s]\n",
      "Pandas Apply: 100%|██████████| 325/325 [00:01<00:00, 229.38it/s]\n",
      "Pandas Apply: 100%|██████████| 325/325 [00:01<00:00, 232.88it/s]\n",
      "Pandas Apply: 100%|██████████| 325/325 [00:01<00:00, 215.95it/s]\n",
      "Pandas Apply: 100%|██████████| 325/325 [00:01<00:00, 216.77it/s]\n",
      "Pandas Apply: 100%|██████████| 325/325 [00:01<00:00, 213.57it/s]\n",
      "Pandas Apply: 100%|██████████| 325/325 [00:01<00:00, 212.57it/s]\n",
      "Pandas Apply: 100%|██████████| 325/325 [00:01<00:00, 218.33it/s]\n",
      "Pandas Apply: 100%|██████████| 325/325 [00:01<00:00, 221.19it/s]\n",
      "Pandas Apply: 100%|██████████| 325/325 [00:01<00:00, 282.41it/s]\n",
      "Pandas Apply: 100%|██████████| 325/325 [00:01<00:00, 289.76it/s]\n",
      "Pandas Apply: 100%|██████████| 325/325 [00:01<00:00, 284.61it/s]\n",
      "Pandas Apply: 100%|██████████| 325/325 [00:01<00:00, 218.95it/s]\n",
      "Pandas Apply: 100%|██████████| 325/325 [00:01<00:00, 214.55it/s]\n",
      "Pandas Apply: 100%|██████████| 325/325 [00:01<00:00, 219.11it/s]\n",
      "Pandas Apply: 100%|██████████| 325/325 [00:01<00:00, 232.13it/s]\n",
      "Pandas Apply: 100%|██████████| 325/325 [00:01<00:00, 221.55it/s]\n",
      "Pandas Apply: 100%|██████████| 325/325 [00:01<00:00, 236.61it/s]\n",
      "Pandas Apply: 100%|██████████| 325/325 [00:01<00:00, 230.60it/s]\n",
      "Pandas Apply: 100%|██████████| 325/325 [00:01<00:00, 218.96it/s]\n",
      "Pandas Apply: 100%|██████████| 325/325 [00:01<00:00, 225.02it/s]\n",
      "Pandas Apply: 100%|██████████| 325/325 [00:01<00:00, 219.63it/s]\n",
      "Pandas Apply: 100%|██████████| 325/325 [00:01<00:00, 217.96it/s]\n",
      "Pandas Apply: 100%|██████████| 325/325 [00:01<00:00, 264.24it/s]\n",
      "Pandas Apply: 100%|██████████| 325/325 [00:01<00:00, 273.18it/s]\n",
      "Pandas Apply: 100%|██████████| 325/325 [00:01<00:00, 310.38it/s]\n",
      "Pandas Apply: 100%|██████████| 325/325 [00:01<00:00, 290.65it/s]\n",
      "Pandas Apply: 100%|██████████| 325/325 [00:01<00:00, 283.49it/s]\n",
      "Pandas Apply: 100%|██████████| 325/325 [00:01<00:00, 285.71it/s]\n",
      "Pandas Apply: 100%|██████████| 325/325 [00:01<00:00, 270.62it/s]\n",
      "Pandas Apply: 100%|██████████| 325/325 [00:01<00:00, 266.18it/s]\n",
      "Pandas Apply: 100%|██████████| 325/325 [00:01<00:00, 272.07it/s]\n",
      "Pandas Apply: 100%|██████████| 325/325 [00:01<00:00, 210.92it/s]\n",
      "Pandas Apply: 100%|██████████| 325/325 [00:01<00:00, 271.78it/s]\n",
      "Pandas Apply: 100%|██████████| 325/325 [00:01<00:00, 270.64it/s]\n",
      "Pandas Apply: 100%|██████████| 325/325 [00:01<00:00, 237.93it/s]\n",
      "Pandas Apply: 100%|██████████| 325/325 [00:01<00:00, 265.79it/s]\n",
      "Pandas Apply: 100%|██████████| 325/325 [00:01<00:00, 277.33it/s]\n",
      "Pandas Apply: 100%|██████████| 325/325 [00:01<00:00, 270.02it/s]\n",
      "Pandas Apply: 100%|██████████| 325/325 [00:01<00:00, 231.17it/s]\n",
      "Pandas Apply: 100%|██████████| 325/325 [00:01<00:00, 220.00it/s]\n",
      "Pandas Apply: 100%|██████████| 325/325 [00:01<00:00, 216.58it/s]\n",
      "Pandas Apply: 100%|██████████| 325/325 [00:01<00:00, 238.14it/s]\n",
      "Pandas Apply: 100%|██████████| 325/325 [00:01<00:00, 232.25it/s]\n",
      "Pandas Apply: 100%|██████████| 325/325 [00:01<00:00, 271.26it/s]\n",
      "Pandas Apply: 100%|██████████| 325/325 [00:01<00:00, 277.25it/s]\n",
      "Pandas Apply: 100%|██████████| 325/325 [00:01<00:00, 270.20it/s]\n",
      "Pandas Apply: 100%|██████████| 325/325 [00:01<00:00, 234.92it/s]\n",
      "Pandas Apply: 100%|██████████| 325/325 [00:01<00:00, 225.42it/s]\n",
      "Pandas Apply: 100%|██████████| 325/325 [00:01<00:00, 232.70it/s]\n",
      "Pandas Apply: 100%|██████████| 325/325 [00:01<00:00, 207.21it/s]\n",
      "Pandas Apply: 100%|██████████| 325/325 [00:01<00:00, 207.81it/s]\n",
      "Pandas Apply: 100%|██████████| 325/325 [00:01<00:00, 183.76it/s]\n",
      "Pandas Apply: 100%|██████████| 325/325 [00:01<00:00, 287.92it/s]\n",
      "Pandas Apply: 100%|██████████| 325/325 [00:01<00:00, 288.96it/s]\n",
      "Pandas Apply: 100%|██████████| 325/325 [00:01<00:00, 217.91it/s]\n",
      "Pandas Apply: 100%|██████████| 325/325 [00:01<00:00, 216.96it/s]\n",
      "Pandas Apply: 100%|██████████| 325/325 [00:01<00:00, 215.69it/s]\n",
      "Pandas Apply: 100%|██████████| 325/325 [00:01<00:00, 232.47it/s]\n",
      "Pandas Apply: 100%|██████████| 325/325 [00:01<00:00, 276.32it/s]\n",
      "Pandas Apply: 100%|██████████| 325/325 [00:01<00:00, 313.98it/s]\n",
      "Pandas Apply: 100%|██████████| 325/325 [00:01<00:00, 310.17it/s]\n",
      "100%|██████████| 100/100 [02:37<00:00,  1.57s/it]\n"
     ]
    }
   ],
   "source": [
    "from tqdm import tqdm\n",
    "import swifter\n",
    "\n",
    "df = df.astype(str)\n",
    "total_count_df = pd.DataFrame(0, index=df.index, columns=df.columns)\n",
    "for keyword in tqdm(keywords):\n",
    "    count_df = df.swifter.apply(lambda x: x.str.count(keyword)).fillna(0)\n",
    "    total_count_df += count_df"
   ]
  },
  {
   "cell_type": "code",
   "execution_count": 8,
   "metadata": {},
   "outputs": [],
   "source": [
    "import numpy as np\n",
    "def propagate_int_value_forward(df):\n",
    "    df = df.copy()\n",
    "    df.mask(df <= 0, np.nan, inplace=True) # mask the values less than zero\n",
    "    df = df.T.ffill(axis=0).T # forward fill so that the values that are np.nan get the closest preceding value in terms of columns - axis=1 leads to NotImplementedError\n",
    "    df.fillna(0, inplace=True) # fill the remaining np.nan with 0\n",
    "    return df"
   ]
  },
  {
   "cell_type": "code",
   "execution_count": 9,
   "metadata": {},
   "outputs": [],
   "source": [
    "exists_counts = df.apply(lambda x: x.str.len() > 10).fillna(0)"
   ]
  },
  {
   "cell_type": "code",
   "execution_count": 10,
   "metadata": {},
   "outputs": [
    {
     "data": {
      "text/plain": [
       "1996-10       1.0\n",
       "1996-11       2.0\n",
       "1996-12      11.0\n",
       "1997-01      11.0\n",
       "1997-02      12.0\n",
       "            ...  \n",
       "2023-06    2378.0\n",
       "2023-07    2388.0\n",
       "2023-08    2404.0\n",
       "2023-09    2407.0\n",
       "2023-10    2422.0\n",
       "Length: 325, dtype: float64"
      ]
     },
     "execution_count": 10,
     "metadata": {},
     "output_type": "execute_result"
    }
   ],
   "source": [
    "total_count_df = propagate_int_value_forward(total_count_df)\n",
    "total_count_df.sum(axis=0)"
   ]
  },
  {
   "cell_type": "code",
   "execution_count": 11,
   "metadata": {},
   "outputs": [
    {
     "data": {
      "text/plain": [
       "1996-10      14\n",
       "1996-11      60\n",
       "1996-12     230\n",
       "1997-01     238\n",
       "1997-02     246\n",
       "           ... \n",
       "2023-06    4569\n",
       "2023-07    4569\n",
       "2023-08    4575\n",
       "2023-09    4578\n",
       "2023-10    4582\n",
       "Length: 325, dtype: object"
      ]
     },
     "execution_count": 11,
     "metadata": {},
     "output_type": "execute_result"
    }
   ],
   "source": [
    "exists_df = propagate_int_value_forward(exists_counts)\n",
    "exists_df.sum(axis=0)"
   ]
  },
  {
   "cell_type": "code",
   "execution_count": 13,
   "metadata": {},
   "outputs": [
    {
     "data": {
      "image/png": "[encoded data removed]",
      "text/plain": [
       "<Figure size 1500x700 with 1 Axes>"
      ]
     },
     "metadata": {},
     "output_type": "display_data"
    }
   ],
   "source": [
    "result = total_count_df.sum(axis=0) / exists_df.sum(axis=0)\n",
    "import matplotlib.pyplot as plt\n",
    "\n",
    "result.plot(kind='line', figsize=(15, 7))\n",
    "plt.xlabel('Date')\n",
    "plt.ylabel('Ratio')\n",
    "plt.title('Ratio of keyword occurrences to total counts')\n",
    "plt.show()"
   ]
  }
 ],
 "metadata": {
  "kernelspec": {
   "display_name": "research",
   "language": "python",
   "name": "python3"
  },
  "language_info": {
   "codemirror_mode": {
    "name": "ipython",
    "version": 3
   },
   "file_extension": ".py",
   "mimetype": "text/x-python",
   "name": "python",
   "nbconvert_exporter": "python",
   "pygments_lexer": "ipython3",
   "version": "3.12.3"
  }
 },
 "nbformat": 4,
 "nbformat_minor": 2
}
