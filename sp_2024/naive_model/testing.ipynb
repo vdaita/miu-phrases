{
 "cells": [
  {
   "cell_type": "code",
   "execution_count": 2,
   "metadata": {},
   "outputs": [],
   "source": [
    "import pandas as pd"
   ]
  },
  {
   "cell_type": "code",
   "execution_count": 51,
   "metadata": {},
   "outputs": [],
   "source": [
    "df = pd.read_csv('yes_filtered.csv', index_col=[0])"
   ]
  },
  {
   "cell_type": "code",
   "execution_count": 52,
   "metadata": {},
   "outputs": [
    {
     "data": {
      "text/plain": [
       "(245, 2)"
      ]
     },
     "execution_count": 52,
     "metadata": {},
     "output_type": "execute_result"
    }
   ],
   "source": [
    "df.shape"
   ]
  },
  {
   "cell_type": "code",
   "execution_count": 53,
   "metadata": {},
   "outputs": [
    {
     "data": {
      "text/html": [
       "<div>\n",
       "<style scoped>\n",
       "    .dataframe tbody tr th:only-of-type {\n",
       "        vertical-align: middle;\n",
       "    }\n",
       "\n",
       "    .dataframe tbody tr th {\n",
       "        vertical-align: top;\n",
       "    }\n",
       "\n",
       "    .dataframe thead th {\n",
       "        text-align: right;\n",
       "    }\n",
       "</style>\n",
       "<table border=\"1\" class=\"dataframe\">\n",
       "  <thead>\n",
       "    <tr style=\"text-align: right;\">\n",
       "      <th></th>\n",
       "      <th>Text</th>\n",
       "      <th>Matched Phrases</th>\n",
       "    </tr>\n",
       "  </thead>\n",
       "  <tbody>\n",
       "    <tr>\n",
       "      <th>1</th>\n",
       "      <td>14th Rose - Handbags, Purses, Woman's Bags\\r\\n...</td>\n",
       "      <td>['made in us']</td>\n",
       "    </tr>\n",
       "    <tr>\n",
       "      <th>2</th>\n",
       "      <td>Custom Swim Parkas | 20 Degrees Below - Brande...</td>\n",
       "      <td>['american made']</td>\n",
       "    </tr>\n",
       "    <tr>\n",
       "      <th>3</th>\n",
       "      <td>Alexander Arms: Welcome to the Revolution\\r\\n ...</td>\n",
       "      <td>['u.s. made']</td>\n",
       "    </tr>\n",
       "    <tr>\n",
       "      <th>4</th>\n",
       "      <td>American Kitchen Cookware | Made in the USAAme...</td>\n",
       "      <td>['made in us']</td>\n",
       "    </tr>\n",
       "    <tr>\n",
       "      <th>5</th>\n",
       "      <td>Home - American Made Cutlery\\r\\nPages$10.00 – ...</td>\n",
       "      <td>['american made']</td>\n",
       "    </tr>\n",
       "  </tbody>\n",
       "</table>\n",
       "</div>"
      ],
      "text/plain": [
       "                                                Text    Matched Phrases\n",
       "1  14th Rose - Handbags, Purses, Woman's Bags\\r\\n...     ['made in us']\n",
       "2  Custom Swim Parkas | 20 Degrees Below - Brande...  ['american made']\n",
       "3  Alexander Arms: Welcome to the Revolution\\r\\n ...      ['u.s. made']\n",
       "4  American Kitchen Cookware | Made in the USAAme...     ['made in us']\n",
       "5  Home - American Made Cutlery\\r\\nPages$10.00 – ...  ['american made']"
      ]
     },
     "execution_count": 53,
     "metadata": {},
     "output_type": "execute_result"
    }
   ],
   "source": [
    "df.head()"
   ]
  },
  {
   "cell_type": "code",
   "execution_count": 54,
   "metadata": {},
   "outputs": [
    {
     "data": {
      "text/plain": [
       "array([\"['made in us']\", \"['american made']\", \"['u.s. made']\",\n",
       "       \"['made in us', 'patriot', 'veteran owned']\",\n",
       "       \"['american made', 'usa made', 'usa based']\", \"['patriot']\",\n",
       "       \"['made in america', 'u.s. manufactur']\", \"['usa manufactured']\",\n",
       "       \"['made in america']\", \"['made in u.s.']\",\n",
       "       \"['made in u.s.', 'american made']\", \"['us manufactured']\",\n",
       "       \"['usa made']\", \"['made in u.s.', 'made in us', 'patriot']\",\n",
       "       \"['made in u.s.', 'patriot']\",\n",
       "       \"['made in america', 'made in us', 'american made']\",\n",
       "       \"['made in us', 'usa made']\", \"['made in us', 'american made']\",\n",
       "       \"['made in us', 'american made', 'buy american', 'buy america', 'american worker', 'american job']\",\n",
       "       \"['american made', 'american worker', 'american job']\",\n",
       "       \"['made in america', 'american made']\",\n",
       "       \"['american made', 'american job']\",\n",
       "       \"['made in america', 'american made', 'america manufactur']\",\n",
       "       \"['made in us', 'us made']\", \"['american made', 'us made']\",\n",
       "       \"['veteran owned']\", \"['american made', 'patriot']\",\n",
       "       \"['buy american', 'buy america']\",\n",
       "       \"['made in us', 'handcrafted in usa', 'handcrafted in us', 'crafted in us']\",\n",
       "       \"['american made', 'buy american', 'buy america', 'patriot']\",\n",
       "       \"['support u.s.']\",\n",
       "       \"['handcrafted in america', 'crafted in america']\",\n",
       "       \"['made in america', 'made in us', 'american made', 'patriot', 'veteran owned']\",\n",
       "       \"['u.s. based']\",\n",
       "       \"['american made', 'buy american', 'buy america']\", \"['buy usa']\",\n",
       "       \"['made in america', 'made in us', 'american made', 'patriot', 'american worker']\",\n",
       "       \"['made in america', 'made in us', 'american made', 'patriot']\",\n",
       "       \"['made in us', 'american made', 'patriot']\",\n",
       "       \"['american made', 'support america']\", \"['u.s. manufactur']\",\n",
       "       \"['usa made', 'buy american', 'buy america', 'patriot']\",\n",
       "       \"['made in america', 'made in us']\",\n",
       "       \"['made in america', 'american made', 'patriot']\",\n",
       "       \"['made in us', 'american made', 'buy american', 'buy america']\",\n",
       "       \"['usa made', 'veteran owned']\", \"['us made']\",\n",
       "       \"['made in america', 'usa made']\"], dtype=object)"
      ]
     },
     "execution_count": 54,
     "metadata": {},
     "output_type": "execute_result"
    }
   ],
   "source": [
    "df[df['Matched Phrases'] != '[]']['Matched Phrases'].unique()"
   ]
  },
  {
   "cell_type": "code",
   "execution_count": 7,
   "metadata": {},
   "outputs": [],
   "source": [
    "df_naive = pd.read_csv('naive_model_results_no.csv')\n",
    "df_naive_yes = pd.read_csv('naive_model_results_yes.csv')"
   ]
  },
  {
   "cell_type": "code",
   "execution_count": 8,
   "metadata": {},
   "outputs": [],
   "source": [
    "df_naive['Originial Sample'] = 'no_filtered'\n",
    "df_naive_yes['Originial Sample'] = 'yes_filtered'\n",
    "\n",
    "df_combined = pd.concat([df_naive, df_naive_yes], ignore_index=True)"
   ]
  },
  {
   "cell_type": "code",
   "execution_count": 9,
   "metadata": {},
   "outputs": [],
   "source": [
    "df_combined.to_csv('naive_model_results.csv')"
   ]
  },
  {
   "cell_type": "code",
   "execution_count": 10,
   "metadata": {},
   "outputs": [
    {
     "data": {
      "text/plain": [
       "(1671, 4)"
      ]
     },
     "execution_count": 10,
     "metadata": {},
     "output_type": "execute_result"
    }
   ],
   "source": [
    "df_naive.shape"
   ]
  },
  {
   "cell_type": "code",
   "execution_count": 11,
   "metadata": {},
   "outputs": [
    {
     "data": {
      "text/html": [
       "<div>\n",
       "<style scoped>\n",
       "    .dataframe tbody tr th:only-of-type {\n",
       "        vertical-align: middle;\n",
       "    }\n",
       "\n",
       "    .dataframe tbody tr th {\n",
       "        vertical-align: top;\n",
       "    }\n",
       "\n",
       "    .dataframe thead th {\n",
       "        text-align: right;\n",
       "    }\n",
       "</style>\n",
       "<table border=\"1\" class=\"dataframe\">\n",
       "  <thead>\n",
       "    <tr style=\"text-align: right;\">\n",
       "      <th></th>\n",
       "      <th>Text</th>\n",
       "      <th>Matched Phrases</th>\n",
       "      <th>Phrase Found</th>\n",
       "      <th>Originial Sample</th>\n",
       "    </tr>\n",
       "  </thead>\n",
       "  <tbody>\n",
       "    <tr>\n",
       "      <th>0</th>\n",
       "      <td>NaN</td>\n",
       "      <td>[]</td>\n",
       "      <td>0</td>\n",
       "      <td>no_filtered</td>\n",
       "    </tr>\n",
       "    <tr>\n",
       "      <th>1</th>\n",
       "      <td>Welcome to Regal Ware, Inc.\\r                 ...</td>\n",
       "      <td>[]</td>\n",
       "      <td>0</td>\n",
       "      <td>no_filtered</td>\n",
       "    </tr>\n",
       "    <tr>\n",
       "      <th>2</th>\n",
       "      <td>291 Colorado Whiskey - Award Winning Whiskeys ...</td>\n",
       "      <td>[]</td>\n",
       "      <td>0</td>\n",
       "      <td>no_filtered</td>\n",
       "    </tr>\n",
       "    <tr>\n",
       "      <th>3</th>\n",
       "      <td>Home    21 &amp; Over  Under 21      View on Mobile</td>\n",
       "      <td>[]</td>\n",
       "      <td>0</td>\n",
       "      <td>no_filtered</td>\n",
       "    </tr>\n",
       "    <tr>\n",
       "      <th>4</th>\n",
       "      <td>ABITA.COM                                     ...</td>\n",
       "      <td>[]</td>\n",
       "      <td>0</td>\n",
       "      <td>no_filtered</td>\n",
       "    </tr>\n",
       "  </tbody>\n",
       "</table>\n",
       "</div>"
      ],
      "text/plain": [
       "                                                Text Matched Phrases  \\\n",
       "0                                                NaN              []   \n",
       "1  Welcome to Regal Ware, Inc.\\r                 ...              []   \n",
       "2  291 Colorado Whiskey - Award Winning Whiskeys ...              []   \n",
       "3    Home    21 & Over  Under 21      View on Mobile              []   \n",
       "4  ABITA.COM                                     ...              []   \n",
       "\n",
       "   Phrase Found Originial Sample  \n",
       "0             0      no_filtered  \n",
       "1             0      no_filtered  \n",
       "2             0      no_filtered  \n",
       "3             0      no_filtered  \n",
       "4             0      no_filtered  "
      ]
     },
     "execution_count": 11,
     "metadata": {},
     "output_type": "execute_result"
    }
   ],
   "source": [
    "df_naive.head()"
   ]
  },
  {
   "cell_type": "code",
   "execution_count": 49,
   "metadata": {},
   "outputs": [
    {
     "data": {
      "text/html": [
       "<div>\n",
       "<style scoped>\n",
       "    .dataframe tbody tr th:only-of-type {\n",
       "        vertical-align: middle;\n",
       "    }\n",
       "\n",
       "    .dataframe tbody tr th {\n",
       "        vertical-align: top;\n",
       "    }\n",
       "\n",
       "    .dataframe thead th {\n",
       "        text-align: right;\n",
       "    }\n",
       "</style>\n",
       "<table border=\"1\" class=\"dataframe\">\n",
       "  <thead>\n",
       "    <tr style=\"text-align: right;\">\n",
       "      <th></th>\n",
       "      <th>Text</th>\n",
       "      <th>Matched Phrases</th>\n",
       "      <th>Phrase Found</th>\n",
       "    </tr>\n",
       "  </thead>\n",
       "  <tbody>\n",
       "  </tbody>\n",
       "</table>\n",
       "</div>"
      ],
      "text/plain": [
       "Empty DataFrame\n",
       "Columns: [Text, Matched Phrases, Phrase Found]\n",
       "Index: []"
      ]
     },
     "execution_count": 49,
     "metadata": {},
     "output_type": "execute_result"
    }
   ],
   "source": [
    "df_naive[df_naive['Matched Phrases'] != '[]']"
   ]
  },
  {
   "cell_type": "code",
   "execution_count": 50,
   "metadata": {},
   "outputs": [
    {
     "data": {
      "text/plain": [
       "array(['[]'], dtype=object)"
      ]
     },
     "execution_count": 50,
     "metadata": {},
     "output_type": "execute_result"
    }
   ],
   "source": [
    "df_naive['Matched Phrases'].unique()"
   ]
  },
  {
   "cell_type": "code",
   "execution_count": null,
   "metadata": {},
   "outputs": [],
   "source": []
  }
 ],
 "metadata": {
  "kernelspec": {
   "display_name": "linegym",
   "language": "python",
   "name": "python3"
  },
  "language_info": {
   "codemirror_mode": {
    "name": "ipython",
    "version": 3
   },
   "file_extension": ".py",
   "mimetype": "text/x-python",
   "name": "python",
   "nbconvert_exporter": "python",
   "pygments_lexer": "ipython3",
   "version": "3.12.4"
  }
 },
 "nbformat": 4,
 "nbformat_minor": 2
}
