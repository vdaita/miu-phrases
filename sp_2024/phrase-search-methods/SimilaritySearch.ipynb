{
 "cells": [
  {
   "cell_type": "code",
   "execution_count": 1,
   "metadata": {},
   "outputs": [],
   "source": [
    "import pandas as pd\n",
    "import numpy as np\n",
    "import matplotlib.pyplot as plt"
   ]
  },
  {
   "cell_type": "code",
   "execution_count": 2,
   "metadata": {},
   "outputs": [
    {
     "name": "stdout",
     "output_type": "stream",
     "text": [
      "(464, 3) (1394, 3)\n",
      "New without alex trimmed:  (1344, 3)\n",
      "end= (464, 3) (1344, 3)\n",
      "Joined df shape:  (1808, 3)\n",
      "Rows with NaN values before dropping:\n",
      "Empty DataFrame\n",
      "Columns: [phrase, yes_no_Yilang, candidate_number]\n",
      "Index: []\n",
      "Joined df shape:  (1808, 3)\n"
     ]
    },
    {
     "name": "stderr",
     "output_type": "stream",
     "text": [
      "/var/folders/rw/s7c9z30x7fj_2gcngv0yhv6w0000gn/T/ipykernel_39019/250905055.py:7: FutureWarning: A value is trying to be set on a copy of a DataFrame or Series through chained assignment using an inplace method.\n",
      "The behavior will change in pandas 3.0. This inplace method will never work because the intermediate object on which we are setting values always behaves as a copy.\n",
      "\n",
      "For example, when doing 'df[col].method(value, inplace=True)', try using 'df.method({col: value}, inplace=True)' or df[col] = df[col].method(value) instead, to perform the operation inplace on the original object.\n",
      "\n",
      "\n",
      "  with_alex['yes_no_Yilang'].fillna(0, inplace=True)\n",
      "/var/folders/rw/s7c9z30x7fj_2gcngv0yhv6w0000gn/T/ipykernel_39019/250905055.py:8: FutureWarning: A value is trying to be set on a copy of a DataFrame or Series through chained assignment using an inplace method.\n",
      "The behavior will change in pandas 3.0. This inplace method will never work because the intermediate object on which we are setting values always behaves as a copy.\n",
      "\n",
      "For example, when doing 'df[col].method(value, inplace=True)', try using 'df.method({col: value}, inplace=True)' or df[col] = df[col].method(value) instead, to perform the operation inplace on the original object.\n",
      "\n",
      "\n",
      "  without_alex['yes_no_Yilang'].fillna(0, inplace=True)\n"
     ]
    }
   ],
   "source": [
    "with_alex = pd.read_csv('with_alex.csv')\n",
    "without_alex = pd.read_csv('without_alex.csv')\n",
    "\n",
    "with_alex.drop(columns=['matched_keywords', 'yes_no_Alexandra'], inplace=True)\n",
    "without_alex.drop(columns=['matched_keywords'], inplace=True)\n",
    "\n",
    "with_alex['yes_no_Yilang'].fillna(0, inplace=True)\n",
    "without_alex['yes_no_Yilang'].fillna(0, inplace=True)\n",
    "\n",
    "with_alex = with_alex.dropna()\n",
    "without_alex = without_alex.dropna()\n",
    "\n",
    "print(with_alex.shape, without_alex.shape)\n",
    "\n",
    "without_alex_train = without_alex[without_alex['yes_no_Yilang'] == 1][:50]\n",
    "\n",
    "without_alex = pd.concat([without_alex[without_alex['yes_no_Yilang'] == 1][50:], without_alex[without_alex['yes_no_Yilang'] == 0]])\n",
    "print(\"New without alex trimmed: \", without_alex.shape)\n",
    "\n",
    "train_phrases = list(without_alex_train['phrase'])\n",
    "# Drop columns that don't match\n",
    "common_columns = with_alex.columns.intersection(without_alex.columns)\n",
    "with_alex = with_alex[common_columns]\n",
    "without_alex = without_alex[common_columns]\n",
    "\n",
    "print(\"end=\", with_alex.shape, without_alex.shape)\n",
    "\n",
    "# Join the dataframes\n",
    "joined_df = pd.concat([with_alex, without_alex])\n",
    "print(\"Joined df shape: \", joined_df.shape)\n",
    "\n",
    "# Identify rows with NaN values\n",
    "nan_rows = joined_df[joined_df.isna().any(axis=1)]\n",
    "print(\"Rows with NaN values before dropping:\")\n",
    "print(nan_rows)\n",
    "joined_df = joined_df.dropna()\n",
    "\n",
    "print(\"Joined df shape: \", joined_df.shape)"
   ]
  },
  {
   "cell_type": "code",
   "execution_count": 3,
   "metadata": {},
   "outputs": [
    {
     "name": "stdout",
     "output_type": "stream",
     "text": [
      "Joined df:  (1808, 3)\n"
     ]
    }
   ],
   "source": [
    "print(\"Joined df: \", joined_df.shape)"
   ]
  },
  {
   "cell_type": "code",
   "execution_count": 4,
   "metadata": {},
   "outputs": [
    {
     "data": {
      "text/plain": [
       "['we use components manufactured by other american companies whenever possible. we will continue to strive to support the american worker.',\n",
       " 'on our trade agreements with other tions to receive their products at a lower cost. we need to stop our',\n",
       " 'moccasins. we will not indicate on customs paperwork that the moccasins are a “gift” to avoid tariffs. intertiol shipments will',\n",
       " 'america’ interview family run. american made…in the age of outsourcing to the lowest bidder, excel dryer remains committed to the',\n",
       " 'run. american made…in the age of outsourcing to the lowest bidder, excel dryer remains committed to the great tradition of',\n",
       " \"the highest standardsour safety shouldn't be outsourced. we're here to change that. united states mask manufactures ppe using only the\",\n",
       " 'own commercial kitchen. nothing is outsourced. this gives us unparalleled control over quality, starting at the farms and fisheries we',\n",
       " 'a meeting anyone can outsource to suppliers. we do it all in-house.#inhousedesign #inhouseengineering #inhouseinstallation book a meeting anyone can promise',\n",
       " 'in quality we do not outsource the production of our razors. all of our razors are made by us (triaxis',\n",
       " 'anyone can outsource to suppliers. we do it all in-house.#inhousedesign #inhouseengineering #inhouseinstallation book a meeting anyone can promise high-quality. we',\n",
       " 'evaluation book a meeting anyone can outsource to suppliers. we do it all in-house.#inhousedesign #inhouseengineering #inhouseinstallationget a free evaluation book',\n",
       " \"hand-packed in our facility in edgewater, florida. we don't outsource any aspect of production, because we won't compromise on quality.\",\n",
       " 'your day with quality service and superior products. as a company, we never want to take any short-cuts or outsource',\n",
       " 'and boxed from asia. even those us brands that people are familiar with now outsource their production, often from the',\n",
       " 'reality that most american linen manufacturers have been forced to either outsource or relocate their production to third world countries',\n",
       " 'manufactures ppe using only the best equipment and materials. our products are 100% made here in the u.s.a and adhere',\n",
       " 'made in the u.s.a our products are ethically sourced and crafted with the utmost care in the u.s.a. using only',\n",
       " 'much more. our tools are only made in the united states of america. quality, productivity, and precision are built into',\n",
       " 'about us always ruthless, always american.only the highest quality designs and premium productslearn more about who we are. contact us',\n",
       " 'in america using only domestic materials. our quality and your satisfaction are our top priorities! shop main categories reamers end',\n",
       " 'past 10 years, that part of our business has grown quickly. we are the only usa manufacturer to make the',\n",
       " 'clones pour out of low-wage mass production factories; but a genuine vanson requires skill, handwork and a level of artistry',\n",
       " 'this stuff. inferior clones pour out of low-wage mass production factories; but a genuine vanson requires skill, handwork and a',\n",
       " 'performance that keeps our customers coming back to purchase again and again. you can always pay less for an inferior',\n",
       " 'material is manufactured in the us and not imported. the manufacturing standards are more consistent and better controlled in the',\n",
       " 'your purchase. currently, over 99% of bikes sold in the us are imported fully assembled and boxed from asia. even',\n",
       " 'of imported goods, you are supporting us manufacturing. this means we offer fast delivery and quality you can rely on.',\n",
       " 'in the us and not imported. the manufacturing standards are more consistent and better controlled in the usa. this policy',\n",
       " 'ripstop, and cuben fiber material is manufactured in the us and not imported. the manufacturing standards are more consistent and',\n",
       " 'with no imported components or parts. they are available at a very affordable price. quality control is second to none',\n",
       " 'exclusively in the usa. although some fabrics are imported from select countries, we source as much american grown raw product',\n",
       " 'in the usa at socco, we’re deeply connected with our partners and dedicated to an exclusively usa made supply chain,',\n",
       " 'craftsmanship behind the fabrication of the metal. havens products are exclusively crafted from the highest quality american metals available, guaranteeing',\n",
       " 'within the usa, including cheaper shipping, higher quality acrylic displays, lower turn around time, no complicated paper work, payment types',\n",
       " 'on supporting american workers and only distributing usa-made flags that are made of high-quality construction at competitively low prices.flags usa’s',\n",
       " 'every component in our garments are from an american manufacturer. we are passiote and committed to the american worker, and',\n",
       " 'to the american worker, and american manufacturing. many of our competitors are claiming \"u.s.a made\" when in fact they are',\n",
       " \"quality all-usa manufacturing. that's why we make all of our mattresses in our southern california factory, and source only the\",\n",
       " 'posts as well as information on new products.e-mail subscribe all benchcrafted products are proudly manufactured in the usa. about policies',\n",
       " '- all in america... we control the quality and ensure it meets what the customer expects... every time.with over 35,000',\n",
       " 'combined with the latest methods of manufacturing on our modern cnc machines producing the finest all usa manufactured cutting tools',\n",
       " 'us!all of our products are artfully crafted in the usa at our fredericksburg, va facility and ship to you in',\n",
       " 'the best equipment available and it is all “made in the usa”. looking for the highest quality, strongest, heaviest duty',\n",
       " 'and assembled in monta 100% usa made each and every mkc blade is hand-finished right here in monta. from the',\n",
       " 'america in a market where the competition is almost 100% imported, we consistently beat or match the price without compromising',\n",
       " 'our configurable products are 100% usa-made in our western new york factory and design center, where we prioritize flexible manufacturing',\n",
       " 'that have a reputation for long service life. our configurable products are 100% usa-made in our western new york factory',\n",
       " '100% handmade in the usa.our production facility in los angeles, ca employs skilled craftsman who construct each item using high',\n",
       " '\"top-quality construction.\" \"usa-made flags crafted the way our forefathers would have.\" \"small business finds big success selling 100% american-made american',\n",
       " 'shipping rates to 17 countries! we outperform the competition never fear rust, sand, or flat-tires again. 100% usa made. mighty']"
      ]
     },
     "execution_count": 4,
     "metadata": {},
     "output_type": "execute_result"
    }
   ],
   "source": [
    "train_phrases"
   ]
  },
  {
   "cell_type": "code",
   "execution_count": 14,
   "metadata": {},
   "outputs": [
    {
     "name": "stdout",
     "output_type": "stream",
     "text": [
      "Number of phrases:  1808\n",
      "Average train embedding created\n",
      "average_similarity_scores:  torch.Size([1, 1808])\n",
      "                                              phrase  yes_no_Yilang  \\\n",
      "0  in our small workshop in pennsylvania. made in...            1.0   \n",
      "1  by experienced american bedsmiths. the quality...            1.0   \n",
      "2  supporting american manufacturing. *soft-side ...            1.0   \n",
      "3  product safety commission are from chinese imp...            1.0   \n",
      "4  our southern california factory. never settle ...            1.0   \n",
      "\n",
      "   candidate_number  max_similarity  average_similarity  \\\n",
      "0                32        0.595803            0.355206   \n",
      "1               199        0.660558            0.384834   \n",
      "2               213        0.590401            0.379949   \n",
      "3               399        0.620829            0.406283   \n",
      "4               506        0.666501            0.406405   \n",
      "\n",
      "   average_joint_similarity  \n",
      "0                  0.561063  \n",
      "1                  0.607861  \n",
      "2                  0.600146  \n",
      "3                  0.641742  \n",
      "4                  0.641934  \n"
     ]
    }
   ],
   "source": [
    "from sentence_transformers import SentenceTransformer, util\n",
    "\n",
    "# Load the pre-trained model\n",
    "model = SentenceTransformer('all-MiniLM-L6-v2')\n",
    "\n",
    "# Encode the train phrases\n",
    "train_phrases_embeddings = model.encode(train_phrases, convert_to_tensor=True)\n",
    "\n",
    "# Encode the phrases in the joined_df\n",
    "joined_df_phrases = joined_df['phrase'].dropna().tolist()\n",
    "print(\"Number of phrases: \", len(joined_df_phrases))\n",
    "joined_df_embeddings = model.encode(joined_df_phrases, convert_to_tensor=True)\n",
    "\n",
    "# Calculate the cosine similarity between each train phrase and the phrases in joined_df\n",
    "similarity_scores = util.pytorch_cos_sim(train_phrases_embeddings, joined_df_embeddings)\n",
    "\n",
    "# Find the maximum similarity score for each train phrase and save it in a new column\n",
    "max_similarity_scores = similarity_scores.max(dim=0).values\n",
    "\n",
    "# Add the max similarity scores to the joined_df\n",
    "joined_df['max_similarity'] = max_similarity_scores.cpu().numpy()\n",
    "\n",
    "avg_similarity_scores = similarity_scores.mean(dim=0)\n",
    "\n",
    "joined_df['average_similarity'] = avg_similarity_scores.cpu().numpy()\n",
    "\n",
    "# Calculate the average of the train_phrases_embeddings\n",
    "average_train_embedding = train_phrases_embeddings.mean(dim=0)\n",
    "print(\"Average train embedding created\")\n",
    "\n",
    "# Calculate the cosine similarity between the average train embedding and the phrases in joined_df\n",
    "average_similarity_scores = util.pytorch_cos_sim(average_train_embedding, joined_df_embeddings)\n",
    "print(\"average_similarity_scores: \", average_similarity_scores.shape)\n",
    "\n",
    "# Add the average similarity scores to the joined_df\n",
    "joined_df['average_joint_similarity'] = average_similarity_scores[0].cpu().numpy()\n",
    "\n",
    "print(joined_df.head())\n"
   ]
  },
  {
   "cell_type": "code",
   "execution_count": 15,
   "metadata": {},
   "outputs": [
    {
     "name": "stdout",
     "output_type": "stream",
     "text": [
      "145\n"
     ]
    }
   ],
   "source": [
    "count_yes_no_yilang_1 = joined_df[joined_df['yes_no_Yilang'] == 1].shape[0]\n",
    "print(count_yes_no_yilang_1)"
   ]
  },
  {
   "cell_type": "code",
   "execution_count": 16,
   "metadata": {
    "vscode": {
     "languageId": "ruby"
    }
   },
   "outputs": [
    {
     "name": "stdout",
     "output_type": "stream",
     "text": [
      "Evaluating column: max_similarity\n",
      "Threshold: 0.3, Precision: 0.08, Recall: 1.00, Accuracy: 0.09\n",
      "Threshold: 0.4, Precision: 0.08, Recall: 1.00, Accuracy: 0.12\n",
      "Threshold: 0.5, Precision: 0.10, Recall: 0.90, Accuracy: 0.35\n",
      "Threshold: 0.6, Precision: 0.16, Recall: 0.44, Accuracy: 0.77\n",
      "Threshold: 0.7, Precision: 0.17, Recall: 0.05, Accuracy: 0.90\n",
      "Threshold: 0.8, Precision: 0.38, Recall: 0.02, Accuracy: 0.92\n",
      "Threshold: 0.9, Precision: 0.40, Recall: 0.01, Accuracy: 0.92\n",
      "Evaluating column: average_joint_similarity\n",
      "Threshold: 0.3, Precision: 0.08, Recall: 1.00, Accuracy: 0.10\n",
      "Threshold: 0.4, Precision: 0.09, Recall: 1.00, Accuracy: 0.15\n",
      "Threshold: 0.5, Precision: 0.10, Recall: 0.90, Accuracy: 0.36\n",
      "Threshold: 0.6, Precision: 0.15, Recall: 0.63, Accuracy: 0.68\n",
      "Threshold: 0.7, Precision: 0.21, Recall: 0.16, Accuracy: 0.88\n",
      "Threshold: 0.8, Precision: 0.00, Recall: 0.00, Accuracy: 0.92\n",
      "Threshold: 0.9, Precision: 0.00, Recall: 0.00, Accuracy: 0.92\n",
      "Evaluating column: average_similarity\n",
      "Threshold: 0.3, Precision: 0.10, Recall: 0.94, Accuracy: 0.30\n",
      "Threshold: 0.4, Precision: 0.16, Recall: 0.46, Accuracy: 0.76\n",
      "Threshold: 0.5, Precision: 0.50, Recall: 0.01, Accuracy: 0.92\n",
      "Threshold: 0.6, Precision: 0.00, Recall: 0.00, Accuracy: 0.92\n",
      "Threshold: 0.7, Precision: 0.00, Recall: 0.00, Accuracy: 0.92\n",
      "Threshold: 0.8, Precision: 0.00, Recall: 0.00, Accuracy: 0.92\n",
      "Threshold: 0.9, Precision: 0.00, Recall: 0.00, Accuracy: 0.92\n"
     ]
    },
    {
     "name": "stderr",
     "output_type": "stream",
     "text": [
      "/opt/anaconda3/envs/research/lib/python3.12/site-packages/sklearn/metrics/_classification.py:1565: UndefinedMetricWarning: Precision is ill-defined and being set to 0.0 due to no predicted samples. Use `zero_division` parameter to control this behavior.\n",
      "  _warn_prf(average, modifier, f\"{metric.capitalize()} is\", len(result))\n",
      "/opt/anaconda3/envs/research/lib/python3.12/site-packages/sklearn/metrics/_classification.py:1565: UndefinedMetricWarning: Precision is ill-defined and being set to 0.0 due to no predicted samples. Use `zero_division` parameter to control this behavior.\n",
      "  _warn_prf(average, modifier, f\"{metric.capitalize()} is\", len(result))\n",
      "/opt/anaconda3/envs/research/lib/python3.12/site-packages/sklearn/metrics/_classification.py:1565: UndefinedMetricWarning: Precision is ill-defined and being set to 0.0 due to no predicted samples. Use `zero_division` parameter to control this behavior.\n",
      "  _warn_prf(average, modifier, f\"{metric.capitalize()} is\", len(result))\n",
      "/opt/anaconda3/envs/research/lib/python3.12/site-packages/sklearn/metrics/_classification.py:1565: UndefinedMetricWarning: Precision is ill-defined and being set to 0.0 due to no predicted samples. Use `zero_division` parameter to control this behavior.\n",
      "  _warn_prf(average, modifier, f\"{metric.capitalize()} is\", len(result))\n",
      "/opt/anaconda3/envs/research/lib/python3.12/site-packages/sklearn/metrics/_classification.py:1565: UndefinedMetricWarning: Precision is ill-defined and being set to 0.0 due to no predicted samples. Use `zero_division` parameter to control this behavior.\n",
      "  _warn_prf(average, modifier, f\"{metric.capitalize()} is\", len(result))\n"
     ]
    }
   ],
   "source": [
    "from sklearn.metrics import precision_score, recall_score, accuracy_score\n",
    "\n",
    "# Define the thresholds\n",
    "thresholds = np.arange(0.3, 0.9, 0.1)\n",
    "columns_to_evaluate = ['max_similarity', 'average_joint_similarity', 'average_similarity']\n",
    "\n",
    "for column in columns_to_evaluate:\n",
    "    print(f\"Evaluating column: {column}\")\n",
    "    \n",
    "    precision_values = []\n",
    "    recall_values = []\n",
    "    accuracy_values = []\n",
    "    \n",
    "    for threshold in thresholds:\n",
    "        predicted_labels = (joined_df[column] >= threshold).astype(int)\n",
    "        true_labels = joined_df['yes_no_Yilang'].fillna(0).astype(int)\n",
    "        \n",
    "        precision = precision_score(true_labels, predicted_labels)\n",
    "        recall = recall_score(true_labels, predicted_labels)\n",
    "        accuracy = accuracy_score(true_labels, predicted_labels)\n",
    "        \n",
    "        precision_values.append(precision)\n",
    "        recall_values.append(recall)\n",
    "        accuracy_values.append(accuracy)\n",
    "    \n",
    "    for threshold, precision, recall, accuracy in zip(thresholds, precision_values, recall_values, accuracy_values):\n",
    "        print(f\"Threshold: {threshold:.1f}, Precision: {precision:.2f}, Recall: {recall:.2f}, Accuracy: {accuracy:.2f}\")"
   ]
  }
 ],
 "metadata": {
  "kernelspec": {
   "display_name": "research",
   "language": "python",
   "name": "python3"
  },
  "language_info": {
   "codemirror_mode": {
    "name": "ipython",
    "version": 3
   },
   "file_extension": ".py",
   "mimetype": "text/x-python",
   "name": "python",
   "nbconvert_exporter": "python",
   "pygments_lexer": "ipython3",
   "version": "3.12.3"
  }
 },
 "nbformat": 4,
 "nbformat_minor": 2
}
