{
 "cells": [
  {
   "cell_type": "markdown",
   "metadata": {},
   "source": [
    "### Import"
   ]
  },
  {
   "cell_type": "code",
   "execution_count": 1,
   "metadata": {},
   "outputs": [],
   "source": [
    "import pandas as pd"
   ]
  },
  {
   "cell_type": "markdown",
   "metadata": {},
   "source": [
    "### Helper Functions"
   ]
  },
  {
   "cell_type": "code",
   "execution_count": 2,
   "metadata": {},
   "outputs": [],
   "source": [
    "def calculate_cumulative_nan_rate(df, columns):\n",
    "    \"\"\"\n",
    "    Calculate the cumulative NaN rate for the specified columns in a DataFrame.\n",
    "\n",
    "    Parameters:\n",
    "    df (pd.DataFrame): The DataFrame containing the data.\n",
    "    columns (list): A list of column names to check for NaN values.\n",
    "\n",
    "    Returns:\n",
    "    float: The cumulative NaN rate across the specified columns.\n",
    "    \"\"\"\n",
    "    # Ensure that only the specified columns are checked\n",
    "    relevant_columns = [col for col in columns if col in df.columns]\n",
    "    cumulative_nan_rate = df[relevant_columns].isna().mean().sum() / len(relevant_columns)\n",
    "    return cumulative_nan_rate\n",
    "\n",
    "columns_to_check = [\n",
    "    '2023-10', '2023-09', '2023-08', '2023-07', '2023-06', '2023-05', '2023-04', '2023-03',\n",
    "    '2023-02', '2023-01', '2022-12', '2022-11', '2022-10', '2022-09', '2022-08', '2022-07',\n",
    "    '2022-06', '2022-05', '2022-04', '2022-03', '2022-02', '2022-01', '2021-12', '2021-11',\n",
    "    '2021-10', '2021-09', '2021-08', '2021-07', '2021-06', '2021-05', '2021-04', '2021-03',\n",
    "    '2021-02', '2021-01', '2020-12', '2020-11', '2020-10', '2020-09', '2020-08', '2020-07',\n",
    "    '2020-06', '2020-05', '2020-04', '2020-03', '2020-02', '2020-01', '2019-12', '2019-11',\n",
    "    '2019-10', '2019-09', '2019-08', '2019-07', '2019-06', '2019-05', '2019-04', '2019-03',\n",
    "    '2019-02', '2019-01', '2018-12', '2018-11', '2018-10', '2018-09', '2018-08', '2018-07',\n",
    "    '2018-06', '2018-05', '2018-04', '2018-03', '2018-02', '2018-01', '2017-12', '2017-11',\n",
    "    '2017-10', '2017-09', '2017-08', '2017-07', '2017-06', '2017-05', '2017-04', '2017-03',\n",
    "    '2017-02', '2017-01', '2016-12', '2016-11', '2016-10', '2016-09', '2016-08', '2016-07',\n",
    "    '2016-06', '2016-05', '2016-04', '2016-03', '2016-02', '2016-01', '2015-12', '2015-11',\n",
    "    '2015-10', '2015-09', '2015-08', '2015-07', '2015-06', '2015-05', '2015-04', '2015-03',\n",
    "    '2015-02', '2015-01', '2014-12', '2014-11', '2014-10', '2014-09', '2014-08', '2014-07',\n",
    "    '2014-06', '2014-05', '2014-04', '2014-03', '2014-02', '2014-01', '2013-12', '2013-11',\n",
    "    '2013-10', '2013-09', '2013-08', '2013-07', '2013-06', '2013-05', '2013-04', '2013-03',\n",
    "    '2013-02', '2013-01', '2012-12', '2012-11', '2012-10', '2012-09', '2012-08', '2012-07',\n",
    "    '2012-06', '2012-05', '2012-04', '2012-03', '2012-02', '2012-01', '2011-12', '2011-11',\n",
    "    '2011-10', '2011-09', '2011-08', '2011-07', '2011-06', '2011-05', '2011-04', '2011-03',\n",
    "    '2011-02', '2011-01', '2010-12', '2010-11', '2010-10', '2010-09', '2010-08', '2010-07',\n",
    "    '2010-06', '2010-05', '2010-04', '2010-03', '2010-02', '2010-01'\n",
    "]"
   ]
  },
  {
   "cell_type": "markdown",
   "metadata": {},
   "source": [
    "### Reading Data"
   ]
  },
  {
   "cell_type": "code",
   "execution_count": 3,
   "metadata": {},
   "outputs": [],
   "source": [
    "df = pd.read_csv('../../company_website_second_round_with_additional_firms.csv', low_memory=False, index_col=[0])"
   ]
  },
  {
   "cell_type": "code",
   "execution_count": 4,
   "metadata": {},
   "outputs": [
    {
     "name": "stdout",
     "output_type": "stream",
     "text": [
      "Cumlative NaN rate: 0.5090361445783133\n"
     ]
    }
   ],
   "source": [
    "sampled_df = df.sample(10, random_state=42)\n",
    "assert sampled_df['company_name'].is_unique, \"Not all company names are unique in the sampled DataFrame.\"\n",
    "print(f\"Cumlative NaN rate: {calculate_cumulative_nan_rate(sampled_df, columns_to_check)}\")"
   ]
  },
  {
   "cell_type": "code",
   "execution_count": 5,
   "metadata": {},
   "outputs": [],
   "source": [
    "sampled_df.to_csv(\"ds.csv\")"
   ]
  },
  {
   "cell_type": "markdown",
   "metadata": {},
   "source": [
    "### Analysis"
   ]
  }
 ],
 "metadata": {
  "kernelspec": {
   "display_name": "miu",
   "language": "python",
   "name": "python3"
  },
  "language_info": {
   "codemirror_mode": {
    "name": "ipython",
    "version": 3
   },
   "file_extension": ".py",
   "mimetype": "text/x-python",
   "name": "python",
   "nbconvert_exporter": "python",
   "pygments_lexer": "ipython3",
   "version": "3.12.3"
  }
 },
 "nbformat": 4,
 "nbformat_minor": 2
}
